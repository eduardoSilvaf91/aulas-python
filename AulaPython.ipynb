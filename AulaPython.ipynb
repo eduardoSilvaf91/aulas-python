{
  "nbformat": 4,
  "nbformat_minor": 0,
  "metadata": {
    "colab": {
      "provenance": [],
      "mount_file_id": "1NKkfkrN2fYLfjENPL-tZaO9sAxkJpMPi",
      "authorship_tag": "ABX9TyMSC/b+uKAdy/O8Fi6iLGUt",
      "include_colab_link": true
    },
    "kernelspec": {
      "name": "python3",
      "display_name": "Python 3"
    },
    "language_info": {
      "name": "python"
    }
  },
  "cells": [
    {
      "cell_type": "markdown",
      "metadata": {
        "id": "view-in-github",
        "colab_type": "text"
      },
      "source": [
        "<a href=\"https://colab.research.google.com/github/eduardoSilvaf91/aulas-python/blob/main/AulaPython.ipynb\" target=\"_parent\"><img src=\"https://colab.research.google.com/assets/colab-badge.svg\" alt=\"Open In Colab\"/></a>"
      ]
    },
    {
      "cell_type": "markdown",
      "source": [
        "\n",
        "![iconPython.png](data:image/png;base64,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)\n",
        "\n",
        "\n",
        "<h1><b>Bem vindo a aula de Python!</b></h1>\n",
        "\n",
        "<br>\n",
        "<p>Bem-vindo ao curso de Python! Neste curso, você aprenderá os conceitos fundamentais da programação com a linguagem Python, uma das mais populares e versáteis. Vamos explorar sintaxe, estruturas de controle, funções e muito mais, desenvolvendo projetos práticos que ajudam a solidificar o aprendizado.</p>\n",
        "\n",
        "<br>\n",
        "<hr>\n",
        "<br>\n",
        "\n",
        "<h2><b>Para começar, vamos perguntar se existe algum aluno que já conhece algo sobre \"linguagem de programação\".</b></h2>\n",
        "\n",
        "<br>\n",
        "<hr>\n",
        "<br>\n",
        "\n",
        "<h2><b>A final, o que é linguagem de programação?</b></h2>\n",
        "\n",
        "<p>Uma linguagem de programação é um conjunto de regras e símbolos usados para criar programas de computador. Ela permite que os desenvolvedores escrevam instruções que a máquina pode entender e executar, possibilitando o desenvolvimento de aplicativos, jogos, sites e muitos outros tipos de software</p>\n",
        "\n",
        "<p>Cada linguagem possui uma <b>sintaxe</b> específica, ou seja, uma forma estruturada de escrever os comandos, e oferece ferramentas para resolver problemas de diferentes maneiras. Em resumo, uma linguagem de programação é a ponte entre a ideia de um desenvolvedor e a execução do computador.</p>\n",
        "\n",
        "<br>\n",
        "<hr>\n"
      ],
      "metadata": {
        "id": "MRBRLG-KgcNL"
      }
    },
    {
      "cell_type": "markdown",
      "source": [
        "\n",
        "<hr>\n",
        "<h1><b>O PEP 8</b></H1>\n",
        "\n",
        "<p>PEP 8 é um guia de estilo para Python que define regras para escrever código claro e consistente, cobrindo aspectos como indentação, espaçamento e nomeação, visando facilitar a leitura e colaboração entre desenvolvedores.</p>\n",
        "\n",
        "<br>\n",
        "\n",
        "<h2><b>Como escrever o codigo em python segundo essa convenção?</b></h2>\n",
        "\n",
        "<p>Para escrever código em Python seguindo a convenção PEP 8, é preciso adotar práticas como:</p>\n",
        "\n",
        "<ul>\n",
        "    <li>\n",
        "    Usar 4 espaços para indentação (ou uma tabulações).\n",
        "    </li>\n",
        "    <li>\n",
        "    Manter linhas de código com no máximo 79 caracteres.\n",
        "    </li>\n",
        "    <li>\n",
        "    Deixar duas linhas em branco entre funções e classes.\n",
        "    </li>\n",
        "    <li>\n",
        "    Usar nomes de <b>\"variáveis\"</b> em minúsculas com palavras separadas por underscores (ex: minha_variavel).\n",
        "    </li>\n",
        "    <li>\n",
        "    Nomear classes com a primeira letra maiúscula em formato CamelCase (ex: MinhaClasse).\n",
        "    </li>\n",
        "    <li>\n",
        "    Colocar um espaço após vírgulas, operadores e ao redor de atribuições.\n",
        "    </li>\n",
        "    <li>\n",
        "    Iniciar funções e variáveis com nomes claros e descritivos.\n",
        "    </li>\n",
        "</ul>\n",
        "<p>Essas diretrizes tornam o código mais legível e organizado.</p>\n",
        "\n",
        "<br>\n",
        "\n",
        "<h3>Em resulmo...</h3>\n",
        "\n",
        "<p>Usar snake_case tanto as variáveis quando as funções/métodos e CamelCase para as classes.</p>\n",
        "<br>\n",
        "<p>* snake_case</p>\n",
        "<p>CamelCase</p>"
      ],
      "metadata": {
        "id": "mPA0q6CrioHY"
      }
    },
    {
      "cell_type": "markdown",
      "source": [
        "<hr>\n",
        "<h1># ATENÇÃO!!! - Se não estiver usando o colab, ensinar préviamente a função de saida de dados : Print()</h1>"
      ],
      "metadata": {
        "id": "wmKNdsLptHmH"
      }
    },
    {
      "cell_type": "code",
      "source": [
        "print(\"Hello world!\")"
      ],
      "metadata": {
        "id": "2xNZ55rVy7zh"
      },
      "execution_count": null,
      "outputs": []
    },
    {
      "cell_type": "markdown",
      "source": [
        "<hr>\n",
        "<br>\n",
        "<hr>\n",
        "\n",
        "<h1><b>Tipos de Dados</p></h1>\n",
        "\n",
        "<p>Tipos de dados são categorias que definem o tipo de valor que uma variável pode armazenar em um programa de computador. Em Python, existem diferentes tipos de dados básicos, como:</p>\n",
        "\n",
        "<br>\n",
        "<ul>\n",
        "    <li>\n",
        "    inteiros (números inteiros)\n",
        "    </li>\n",
        "    <li>\n",
        "    floats (números decimais)\n",
        "    </li>\n",
        "    <li>\n",
        "    strings (sequências de texto)\n",
        "    </li>\n",
        "    <li>\n",
        "    listas (coleções de elementos)\n",
        "    </li>\n",
        "    <li>\n",
        "    booleanos (verdadeiro ou falso)\n",
        "    </li>\n",
        "</ul>\n",
        "<br>\n",
        "\n",
        "<p>Cada tipo de dado possui características específicas e operações que podem ser realizadas sobre ele. Compreender os tipos de dados é fundamental para manipular informações de forma correta e eficiente em qualquer programa.</p>\n",
        "\n",
        "<br>\n",
        "<h3>Exemplos:</h3>\n",
        "\n",
        "<p>Numero inteiros => INT => 10 </p>\n",
        "<p>Numero decimal => FLOAT => 10.4539 </p>\n",
        "<p>Texto => STRING => \"Seu nome\" => (Uso de Aspas simples ou duplas)</p>\n",
        "<p>BOOLEANO => BOOL => False or True </p>\n",
        "<p>Lista => LIST => [ 1, 2, 3, 4 ]</p>\n"
      ],
      "metadata": {
        "id": "w5JeI9VGd0gm"
      }
    },
    {
      "cell_type": "code",
      "source": [
        "type(10)"
      ],
      "metadata": {
        "id": "FhM2o8yFfH60"
      },
      "execution_count": null,
      "outputs": []
    },
    {
      "cell_type": "code",
      "source": [
        "type(10.453)"
      ],
      "metadata": {
        "id": "tpXGc5e1fHmJ"
      },
      "execution_count": null,
      "outputs": []
    },
    {
      "cell_type": "code",
      "source": [
        "type(\"Seu nome\")"
      ],
      "metadata": {
        "id": "hDodkp83fHRy"
      },
      "execution_count": null,
      "outputs": []
    },
    {
      "cell_type": "code",
      "source": [
        "type(False)"
      ],
      "metadata": {
        "id": "BsWKV4wDfK2Z"
      },
      "execution_count": null,
      "outputs": []
    },
    {
      "cell_type": "code",
      "source": [
        "type([1, 2, 3, 4,])"
      ],
      "metadata": {
        "id": "wRskc-pGsl_4"
      },
      "execution_count": null,
      "outputs": []
    },
    {
      "cell_type": "markdown",
      "source": [
        "<hr>\n",
        "<br>\n",
        "<hr>\n",
        "\n",
        "<h1>Variaveis</h1>\n",
        "\n",
        "<p>Uma variável é um espaço de armazenamento na memória do computador que guarda um valor, como números, texto ou outros tipos de dados, e pode ser alterado durante a execução de um programa.</p>\n",
        "\n",
        "<p>Ela é identificada por um nome, que o programador escolhe, e pode ser usada para representar informações que podem mudar ao longo do tempo.</p>\n",
        "\n",
        "<p>Em Python, as variáveis não precisam ser declaradas com um tipo específico, permitindo uma maior flexibilidade ao programar. O uso correto de variáveis é essencial para a criação de programas eficientes e dinâmicos.</p>\n",
        "\n",
        "<br>\n",
        "<h3>Em resulmo...</h3>\n",
        "\n",
        "<p>Uma variável é um nome que definimos para armazenar dados de forma simples</p>\n",
        "\n",
        "<h3>Exemplos:</h3>\n",
        "\n",
        "<p>No seu computador tem um componente chamado memoria RAM, onde armazena vários dados temporariamente. Imagine que essa memoria RAM fosse um armário com varias gavetas, escolhemos uma gaveta e guardamos uma informação com um nome, por exemplo (“João”), e essa gaveta terá essa informação lá dentro</p>\n",
        "\n",
        "```\n",
        "                                __\n",
        "    \"João\"                      ||\n",
        "      |                        /  \\\n",
        "      >                       /    \\\n",
        "    __________________________\\____/__________________________\n",
        "    |           |  |           |  |           |  |           |\n",
        "    |     O     |  |     O     |  |     O     |  |     O     |\n",
        "    |___________|  |___________|  |___________|  |___________|\n",
        "    _____________  _____________  _____________  _____________\n",
        "    |           |  |           |  |           |  |           |\n",
        "    |     O     |  |     O     |  |     O     |  |     O     |\n",
        "    |___________|  |___________|  |___________|  |___________|\n",
        "    _____________  _____________  _____________  _____________\n",
        "    |           |  |           |  |           |  |           |\n",
        "    |     O     |  |     O     |  |     O     |  |     O     |\n",
        "    |___________|  |___________|  |___________|  |___________|\n",
        "\n",
        "\n",
        "```\n",
        "\n",
        "<p>Porem tem muitas outras gaveta ao redor desse e precisamos identificá-la. Podemos, de repente, dar um nome para essa gaveta, para sabermos qual gaveta está o nosso nome.</p>\n",
        "\n",
        "<p>Supondo que damos o nome dessa gaveta de “meu_nome”, logo toda vez que chegarmos próximo a esse armário e irmos até a gaveta “meu_nome\", eu terei acesso ao nome “João”.  </p>\n",
        "\n",
        "```\n",
        "                                __\n",
        "    \"João\"                      ||\n",
        "      |                        /  \\\n",
        "      >                       /    \\\n",
        "    __________________________\\____/__________________________\n",
        "    |           |  |           |  |           |  |           |\n",
        "    |  meu_nome |  |     O     |  |     O     |  |     O     |\n",
        "    |___________|  |___________|  |___________|  |___________|\n",
        "    _____________  _____________  _____________  _____________\n",
        "    |           |  |           |  |           |  |           |\n",
        "    |     O     |  |     O     |  |     O     |  |     O     |\n",
        "    |___________|  |___________|  |___________|  |___________|\n",
        "    _____________  _____________  _____________  _____________\n",
        "    |           |  |           |  |           |  |           |\n",
        "    |     O     |  |     O     |  |     O     |  |     O     |\n",
        "    |___________|  |___________|  |___________|  |___________|\n",
        "\n",
        "\n",
        "```\n",
        "\n",
        "\n",
        "<br>\n",
        "<h2>Como Definir um variavel?</h2>\n",
        "<p>Para definir um variável, basta definir um nome e um valor, utilizando o operador de atribuição (=). Exemplo:</p>\n",
        "\n",
        "<p>definir_nome = valor</p>\n",
        "\n",
        "\n",
        "\n"
      ],
      "metadata": {
        "id": "B70dDZnXgkn3"
      }
    },
    {
      "cell_type": "code",
      "source": [
        "numero_telefone = '(19) 9 9898-9898'"
      ],
      "metadata": {
        "id": "JXrOqOhMhX3e"
      },
      "execution_count": null,
      "outputs": []
    },
    {
      "cell_type": "code",
      "source": [
        "numero_telefone"
      ],
      "metadata": {
        "id": "XhCI0wZphkIc"
      },
      "execution_count": null,
      "outputs": []
    },
    {
      "cell_type": "code",
      "source": [
        "type(numero_telefone)"
      ],
      "metadata": {
        "id": "2qtQd9a4xecg"
      },
      "execution_count": null,
      "outputs": []
    },
    {
      "cell_type": "markdown",
      "source": [
        "<h1>Alterar o valor da Variavel</h1>\n",
        "<p>Para alterar o valor de uma variável, basta atribuir um novo valor a ela usando o operador de atribuição (=). Por exemplo:</p>"
      ],
      "metadata": {
        "id": "z5TvNz8erx7U"
      }
    },
    {
      "cell_type": "code",
      "source": [
        "numero_telefone = \"(11) 3535-3535\""
      ],
      "metadata": {
        "id": "w9y92qwIr906"
      },
      "execution_count": null,
      "outputs": []
    },
    {
      "cell_type": "code",
      "source": [
        "numero_telefone"
      ],
      "metadata": {
        "id": "coNuw9UCsFby"
      },
      "execution_count": null,
      "outputs": []
    },
    {
      "cell_type": "markdown",
      "source": [
        "<hr>\n",
        "<br>\n",
        "<hr>\n",
        "<h2>Comentário</h2>\n",
        "\n",
        "<p>Em Python, para comentar uma linha de código, basta usar o símbolo <b>#</b>. Tudo o que vem após <b>#</b> na mesma linha será ignorado pelo Python.</p>\n"
      ],
      "metadata": {
        "id": "CJcHRleB8Hmc"
      }
    },
    {
      "cell_type": "code",
      "source": [
        "# Isso é um comentário\n",
        "\n",
        "x = 10  # Atribuição de valor à variável x\n",
        "\n",
        "print(x) # mostrar a informação"
      ],
      "metadata": {
        "id": "_4H9OUrW82oT"
      },
      "execution_count": null,
      "outputs": []
    },
    {
      "cell_type": "markdown",
      "source": [
        "<hr>\n",
        "<br>\n",
        "<hr>\n",
        "\n",
        "<h1>Funções de entrada e saída de dados: (input e print)</h1>\n",
        "\n",
        "<p>Funções de entrada e saída de dados são métodos usados para interagir com o usuário ou com o sistema.</p>\n",
        "\n",
        "<p>A função de entrada (input()) é utilizada para capturar informações fornecidas pelo usuário, permitindo que o programa leia dados.</p>\n",
        "<p>Já a função de saída (print()) serve para exibir informações na tela, permitindo que o programa forneça resultados ou mensagens ao usuário.</p>\n",
        "<p>Essas funções são essenciais para a interação do programa com o mundo externo, seja para obter dados ou apresentar resultados.</p>"
      ],
      "metadata": {
        "id": "KsuK6nX90Ctl"
      }
    },
    {
      "cell_type": "markdown",
      "source": [
        "<h2>Como usar a função print()?</h2>\n"
      ],
      "metadata": {
        "id": "v8G84W9h2vGe"
      }
    },
    {
      "cell_type": "code",
      "source": [
        "print(\"Bem vindo a aula de Python!\")\n",
        "print(\"Vamos aprender muito hoje!\")"
      ],
      "metadata": {
        "id": "d2vU7FK-pqXA"
      },
      "execution_count": null,
      "outputs": []
    },
    {
      "cell_type": "code",
      "source": [
        "txt = \"Bom Dia!\"\n",
        "\n",
        "print(txt)"
      ],
      "metadata": {
        "id": "4SASVDlFq0xx"
      },
      "execution_count": null,
      "outputs": []
    },
    {
      "cell_type": "markdown",
      "source": [
        "<p>O ( f ) antes da string no print() indica que é uma f-string (string formatada), que permite incorporar variáveis diretamente na string. As variáveis são colocadas entre chaves {} e seus valores são automaticamente inseridos na string. No exemplo:</p>"
      ],
      "metadata": {
        "id": "-04jErkS3zFl"
      }
    },
    {
      "cell_type": "code",
      "source": [
        "nome = \"Joãozinho\"\n",
        "anos = 13\n",
        "\n",
        "print(f\"O {nome} tem {anos} anos de idade!\")\n",
        "\n",
        "msg = f\"O {nome} tem {anos} anos de idade!\"\n",
        "\n",
        "print(msg)"
      ],
      "metadata": {
        "id": "iFNjPRHCsSZ7"
      },
      "execution_count": null,
      "outputs": []
    },
    {
      "cell_type": "markdown",
      "source": [
        "<h2>Como usar a função input()?</h2>"
      ],
      "metadata": {
        "id": "FwrOekaS58l3"
      }
    },
    {
      "cell_type": "code",
      "source": [
        "nome = input(\"Qual é o seu nome? \")\n",
        "\n",
        "print(f'Bem vindo {nome}!')"
      ],
      "metadata": {
        "id": "xPFd1xhX4Bok"
      },
      "execution_count": null,
      "outputs": []
    },
    {
      "cell_type": "markdown",
      "source": [
        "<p>PS: A função input por padrão, sempre retornara uma string (texto). </p>"
      ],
      "metadata": {
        "id": "Z5ni9zVi9mNA"
      }
    },
    {
      "cell_type": "code",
      "source": [
        "type(nome)"
      ],
      "metadata": {
        "id": "o5tbFLxm4kte"
      },
      "execution_count": null,
      "outputs": []
    },
    {
      "cell_type": "code",
      "source": [
        "num = input()  # insira um numero\n",
        "print(type(num))"
      ],
      "metadata": {
        "id": "KcXuKXuvzKUk"
      },
      "execution_count": null,
      "outputs": []
    },
    {
      "cell_type": "markdown",
      "source": [
        "<h2>Podemos converter os dado para outros tipos, usando as funções de conversão. As mais comuns são:</h2>\n",
        "<ul>\n",
        "    <li>int( )</li>\n",
        "    <li>float( )</li>\n",
        "    <li>str( )</li>\n",
        "    <li>bool( )</li>\n",
        "</ul>\n",
        "\n",
        "<p>PS: Alguns dados não poderam ser convertidos.</p>"
      ],
      "metadata": {
        "id": "1eEgky4A7y0p"
      }
    },
    {
      "cell_type": "code",
      "source": [
        "txt = \"123\"\n",
        "print(type(txt))\n",
        "\n",
        "num = int(txt)\n",
        "print(type(num))"
      ],
      "metadata": {
        "id": "97k0hVkB8zbw"
      },
      "execution_count": null,
      "outputs": []
    },
    {
      "cell_type": "code",
      "source": [
        "print(bool(0))\n",
        "print(bool(1))"
      ],
      "metadata": {
        "id": "5HHGyf3F9dNn"
      },
      "execution_count": null,
      "outputs": []
    },
    {
      "cell_type": "markdown",
      "source": [
        "<hr>\n",
        "<br>\n",
        "<hr>\n",
        "\n",
        "<h1>Operações</h1>\n",
        "\n",
        "<p>As operações em Python funcionam com base em operadores que permitem realizar cálculos e manipular dados. Os principais tipos de operações incluem:</p>\n",
        "<ul>\n",
        "<li>Aritméticas</li>\n",
        "<li>Comparação</li>\n",
        "<li>Lógicas</li>\n",
        "</ul>\n",
        "<br>"
      ],
      "metadata": {
        "id": "ghIl5ahG_FrN"
      }
    },
    {
      "cell_type": "markdown",
      "source": [
        "<h2>Operações Aritméticas:</h2>"
      ],
      "metadata": {
        "id": "9zgPcoaKcWMP"
      }
    },
    {
      "cell_type": "code",
      "source": [
        "# soma\n",
        "1 + 2"
      ],
      "metadata": {
        "id": "5o026E2q_T0a"
      },
      "execution_count": null,
      "outputs": []
    },
    {
      "cell_type": "code",
      "source": [
        "# subitração\n",
        "4 - 5"
      ],
      "metadata": {
        "id": "ULrpz3a9_Wgx"
      },
      "execution_count": null,
      "outputs": []
    },
    {
      "cell_type": "code",
      "source": [
        "# multiplicação\n",
        "5 * 2"
      ],
      "metadata": {
        "id": "jahsRrry_aVx"
      },
      "execution_count": null,
      "outputs": []
    },
    {
      "cell_type": "code",
      "source": [
        "# divição\n",
        "10 / 3"
      ],
      "metadata": {
        "id": "e9fyvcfY_0aw"
      },
      "execution_count": null,
      "outputs": []
    },
    {
      "cell_type": "code",
      "source": [
        "# resto da divição\n",
        "10 % 3"
      ],
      "metadata": {
        "id": "kFhclEIK_f6R"
      },
      "execution_count": null,
      "outputs": []
    },
    {
      "cell_type": "code",
      "source": [
        "# int divição (base)\n",
        "10 // 3"
      ],
      "metadata": {
        "id": "jw01zdDE_ujh"
      },
      "execution_count": null,
      "outputs": []
    },
    {
      "cell_type": "code",
      "source": [
        "# potenciação 2³\n",
        "2 ** 3"
      ],
      "metadata": {
        "id": "-99CUGdZ_jV5"
      },
      "execution_count": null,
      "outputs": []
    },
    {
      "cell_type": "markdown",
      "source": [
        "<hr>\n",
        "\n",
        "<h1>Operações Comparação (\"Condicional\")</h1>\n",
        "\n",
        "<p>Resulta no Verdadeiro ou Falso.</p>\n"
      ],
      "metadata": {
        "id": "TNQ35NlPj09M"
      }
    },
    {
      "cell_type": "markdown",
      "source": [
        "<h1>Igualdade -> ( == )</h1>"
      ],
      "metadata": {
        "id": "HdZJtPUTlAhh"
      }
    },
    {
      "cell_type": "code",
      "source": [
        "x = 10 # isso não é comparação e sim atribuição"
      ],
      "metadata": {
        "id": "0eaZV-0ekvit"
      },
      "execution_count": null,
      "outputs": []
    },
    {
      "cell_type": "code",
      "source": [
        "x == 10"
      ],
      "metadata": {
        "id": "zbM26utck1_C"
      },
      "execution_count": null,
      "outputs": []
    },
    {
      "cell_type": "markdown",
      "source": [
        "<h1>Diferença -> ( != )</h1>"
      ],
      "metadata": {
        "id": "iQxw8x-Hoqwk"
      }
    },
    {
      "cell_type": "code",
      "source": [
        "x != 9"
      ],
      "metadata": {
        "id": "gkIVk3uzo3WR"
      },
      "execution_count": null,
      "outputs": []
    },
    {
      "cell_type": "markdown",
      "source": [
        "<h1>Maior e menos -> ( < ou > )</h1>"
      ],
      "metadata": {
        "id": "grwXYmTuvzl9"
      }
    },
    {
      "cell_type": "code",
      "source": [
        "10 > 20"
      ],
      "metadata": {
        "id": "E7P40iD1v-up"
      },
      "execution_count": null,
      "outputs": []
    },
    {
      "cell_type": "code",
      "source": [
        "10 < 20"
      ],
      "metadata": {
        "id": "FDwdlp_IwBW5"
      },
      "execution_count": null,
      "outputs": []
    },
    {
      "cell_type": "code",
      "source": [
        "20 > 20"
      ],
      "metadata": {
        "id": "akkKoY54wrYJ"
      },
      "execution_count": null,
      "outputs": []
    },
    {
      "cell_type": "markdown",
      "source": [
        "<h1>Maior igual e menos igual -> ( <= ou >= )</h1>\n"
      ],
      "metadata": {
        "id": "V4e_lSMlwNnY"
      }
    },
    {
      "cell_type": "code",
      "source": [
        "20 >= 20"
      ],
      "metadata": {
        "id": "0bc6Tsgvwixh"
      },
      "execution_count": null,
      "outputs": []
    },
    {
      "cell_type": "markdown",
      "source": [
        "<hr>\n",
        "<h2>Operações de Lógicas:</h2>\n",
        "\n",
        "<h2> 'E' => ( and )</h2>\n",
        "\n",
        "<p>Só é verdade quando todos as outros forem verdade </p>\n",
        "<p>|V|V| = V</p>\n",
        "<p>|V|F| = F</p>\n",
        "<p>|F|V| = F</p>\n",
        "<p>|F|F| = F</p>\n"
      ],
      "metadata": {
        "id": "mn5VztdylkNR"
      }
    },
    {
      "cell_type": "code",
      "source": [
        "True and True"
      ],
      "metadata": {
        "id": "w8BgCsP6mgaj"
      },
      "execution_count": null,
      "outputs": []
    },
    {
      "cell_type": "code",
      "source": [
        "True and False"
      ],
      "metadata": {
        "id": "sVPCXdEkmoET"
      },
      "execution_count": null,
      "outputs": []
    },
    {
      "cell_type": "markdown",
      "source": [
        "<hr>\n",
        "<h1> 'OU' => ( or )</h1>\n",
        "\n",
        "<p>Basta um ser Verdade </p>\n",
        "<p>|V|V| = V</p>\n",
        "<p>|V|F| = V</p>\n",
        "<p>|F|V| = V</p>\n",
        "<p>|F|F| = F</p>"
      ],
      "metadata": {
        "id": "VwbYEEUOm3h2"
      }
    },
    {
      "cell_type": "code",
      "source": [
        "True or False"
      ],
      "metadata": {
        "id": "fsr5RuZUobjn"
      },
      "execution_count": null,
      "outputs": []
    },
    {
      "cell_type": "code",
      "source": [
        "False or False"
      ],
      "metadata": {
        "id": "LF-8g-CnohD7"
      },
      "execution_count": null,
      "outputs": []
    },
    {
      "cell_type": "markdown",
      "source": [
        "<hr>\n",
        "<br>\n",
        "<hr>\n",
        "\n",
        "<h1>Estruturas Condicionais</h1>\n",
        "\n",
        "<p>Estrutura condicional é usada para executar <b>diferentes blocos</b> de código dependendo de uma condição. Se a condição for verdadeira, o bloco de código do <b>if</b> é executado; se for falsa, o bloco do <b>else</b> é executado. Exemplo: </p>"
      ],
      "metadata": {
        "id": "nx5BExustU-0"
      }
    },
    {
      "cell_type": "markdown",
      "source": [
        "<h2>\"Estruturas Condicionais (if - else)</h2>\n",
        "\n",
        "<h3>Traduzido para</h3>\n",
        "<p>if = \"Se\"</p>\n",
        "<p> else = \"Caso contrário\"</p>\n",
        "\n",
        "\n",
        "\n",
        "```\n",
        "if condição:\n",
        "    # Bloco de código executado se a condição for verdadeira\n",
        "    # Instruções aqui\n",
        "\n",
        "else:\n",
        "    # Bloco de código executado se a condição for falsa\n",
        "    # Instruções aqui\n",
        "```\n",
        "\n"
      ],
      "metadata": {
        "id": "veZOK3WsuCZC"
      }
    },
    {
      "cell_type": "code",
      "source": [
        "# variável \"anos\" que recebe um valor numérico\n",
        "anos = 15\n",
        "\n",
        "\n",
        "# agora vamos checar se a condição é verdadeira\n",
        "# anos ( 15 ) é menor ou igual a 17?\n",
        "if anos <= 17:\n",
        "\n",
        "    # se sim\n",
        "    print(\"Ele é muito novo!\")\n",
        "\n",
        "else:\n",
        "    # se não\n",
        "    print(\"Ele é de Maior!\")"
      ],
      "metadata": {
        "id": "-MsdA-e9vKBM"
      },
      "execution_count": null,
      "outputs": []
    },
    {
      "cell_type": "markdown",
      "source": [
        "<h2>É muito importante se atentar a indentação da estrutura:</h2>\n",
        "<p>Se não estiver indentado ele não estará dentro do bloco de execução.</p>\n",
        "<h3>------> = Tab</h3>\n",
        "<br>\n",
        "\n",
        "```\n",
        "if (condição) :\n",
        "\n",
        "#------> codigo\n",
        "```\n",
        "\n"
      ],
      "metadata": {
        "id": "iRe4carl0dAm"
      }
    },
    {
      "cell_type": "code",
      "source": [
        "maria_tem_um_cachorro = False\n",
        "\n",
        "\n",
        "# sem indentação não funciona\n",
        "if maria_tem_um_cachorro:\n",
        "    pass\n",
        "\n",
        "# ----->\n",
        "print(\"maria tem um cachorro fofinho!\")"
      ],
      "metadata": {
        "id": "f-hjceTMTEfN"
      },
      "execution_count": null,
      "outputs": []
    },
    {
      "cell_type": "markdown",
      "source": [
        "\n",
        "<h2>Estrutura condicional com elif (else if)</h2>\n",
        "\n",
        "<p>Se você precisar verificar múltiplas condições, pode usar o <b>elif (abreviação de \"else if\")</b> para testar outras expressões entre o if e o else. A sintaxe fica assim:</p>\n",
        "\n",
        "```\n",
        "if condição1:\n",
        "    # Bloco de código executado se condição1 for verdadeira\n",
        "elif condição2:\n",
        "    # Bloco de código executado se condição1 for falsa e condição2 for verdadeira\n",
        "else:\n",
        "    # Bloco de código executado se nenhuma das condições anteriores for verdadeira\n",
        "\n",
        "```\n"
      ],
      "metadata": {
        "id": "DMbaDLHtyDpC"
      }
    },
    {
      "cell_type": "code",
      "source": [
        "idade_usuario = 18\n",
        "\n",
        "if idade_usuario <= 10:\n",
        "    print(\"crianca\")\n",
        "\n",
        "elif idade_usuario < 18:\n",
        "    print(\"adolescente\")\n",
        "\n",
        "elif idade_usuario < 60:\n",
        "    print(\"adulto\")\n",
        "\n",
        "else:\n",
        "    print(\"idoso\")"
      ],
      "metadata": {
        "id": "amIPROB-yCXD"
      },
      "execution_count": null,
      "outputs": []
    },
    {
      "cell_type": "markdown",
      "source": [
        "<br>\n",
        "<br>\n",
        "<hr>\n",
        "<hr>\n",
        "<hr>\n",
        "<br>\n",
        "\n",
        "<h1><b>Aula 05/05/2024</b></h1>\n",
        "\n",
        "<br>\n",
        "\n",
        "<h2><b>Revisão:</b></h2>\n",
        "<h2>Tudo que já foi ensinado:</h2>\n",
        "\n",
        "<h3>Tipos de Dados:</h3>\n",
        "<ul>\n",
        "<li>int</li>\n",
        "<li>float</li>\n",
        "<li>str</li>\n",
        "<li>bool</li>\n",
        "</ul>\n",
        "\n",
        "<h3>Operações:</h3>\n",
        "<ul>\n",
        "<li>+</li>\n",
        "<li>-</li>\n",
        "<li>*</li>\n",
        "<li>/</li>\n",
        "</ul>\n",
        "\n",
        "<h3>Condicional:</h3>\n",
        "<ul>\n",
        "<li>==</li>\n",
        "<li>!=</li>\n",
        "<li>></li>\n",
        "<li>>=</li>\n",
        "<li><</li>\n",
        "<li><=</li>\n",
        "<li>and</li>\n",
        "<li>or</li>\n",
        "</ul>\n",
        "\n",
        "<h3>Estruturas Condicionais:</h3>\n",
        "<ul>\n",
        "<li>if</li>\n",
        "<li>elif</li>\n",
        "<li>else</li>\n",
        "</ul>\n",
        "\n",
        "\n",
        "\n"
      ],
      "metadata": {
        "id": "QD158yrzW3GR"
      }
    },
    {
      "cell_type": "markdown",
      "source": [
        "<hr>\n",
        "<h1>Exercicios: Hora de programar:</h1>\n",
        "\n",
        "<p><b>Mãos a Obra!</b><p>"
      ],
      "metadata": {
        "id": "QxQa1oZQcRlK"
      }
    },
    {
      "cell_type": "markdown",
      "source": [
        "<h2> 1) Desenvolver um programa que pede a sua idade e diz se voçê é \"crianca\", \"adolescente\", \"adulto\" ou \"idoso\".</h2>"
      ],
      "metadata": {
        "id": "L9hXth3Pb6aP"
      }
    },
    {
      "cell_type": "code",
      "source": [
        "idade = int(input('Digite sua idade: '))\n",
        "\n",
        "if idade <= 10:\n",
        "    print(\"Criança\")\n",
        "\n",
        "elif idade < 18:\n",
        "    print(\"Adolencente\")\n",
        "\n",
        "elif idade < 60:\n",
        "    print(\"Adulto\")\n",
        "\n",
        "else:\n",
        "    print(\"Idoso\")"
      ],
      "metadata": {
        "colab": {
          "base_uri": "https://localhost:8080/"
        },
        "id": "4E1j7c-94RRD",
        "outputId": "d9270255-c279-49ad-fbf2-1a509f872ff1"
      },
      "execution_count": null,
      "outputs": [
        {
          "output_type": "stream",
          "name": "stdout",
          "text": [
            "Digite sua idade: 10\n",
            "Criança\n"
          ]
        }
      ]
    },
    {
      "cell_type": "code",
      "source": [
        "idade = int(input(\"Digite sua idade: \"))\n",
        "\n",
        "if idade <= 10:\n",
        "    print(\"criança\")\n",
        "elif idade < 18:\n",
        "    print(\"adolescente\")\n",
        "elif idade < 60:\n",
        "    print(\"adulto\")\n",
        "else:\n",
        "    print(\"idoso\")"
      ],
      "metadata": {
        "id": "duSrUIU54tI0"
      },
      "execution_count": null,
      "outputs": []
    },
    {
      "cell_type": "markdown",
      "source": [
        "<h2> 2) Desenvolver um programa de Login que verifica o login e senha do usuario.</h2>"
      ],
      "metadata": {
        "id": "0rX4qRWGhUIW"
      }
    },
    {
      "cell_type": "code",
      "source": [
        "# isso pegaria do banco de dados\n",
        "nome_usuario = \"Eduardo Silva\"\n",
        "login_usuario = \"edu123\"\n",
        "senha_usuario = \"1234\"\n",
        "\n",
        "\n",
        "login = input(\"Informe o seu Usuario:\")\n",
        "senha = input(\"Informe a sua senha:\")\n",
        "\n",
        "if login == login_usuario and senha == senha_usuario:\n",
        "    print(f\"Bem vindo {nome_usuario}!\")\n",
        "    print(\"Você acaba de logar no nosso sistema.\")\n",
        "else:\n",
        "    print(\"Não foi possivel logar na sua conta\")\n",
        "    print(\"login ou senha incorreta!\")\n",
        "\n"
      ],
      "metadata": {
        "id": "a_uzXxyShTbw"
      },
      "execution_count": null,
      "outputs": []
    },
    {
      "cell_type": "markdown",
      "source": [
        "<h2> 3) Desenvolver um programa que calcula o indece de massa corporal (IMC).</h2>\n",
        "\n",
        "<h3><b>calculo_imc = peso / (altura * altura)</b><h3>\n",
        "\n",
        "<p>menor que 18,5 \tbaixo peso</p>\n",
        "<p>entre 18,5 e 24,9 \tintervalo normal</p>\n",
        "<p>entre 25 e 29,9 \tsobrepeso</p>\n",
        "<p>entre 30 e 34,9 \tobesidade classe I</p>\n",
        "<p>entre 35 e 39,9 \tobesidade classe II</p>\n",
        "<p>maior que 40 \tobesidade classe III</p>"
      ],
      "metadata": {
        "id": "_WJ-HmmLdU_K"
      }
    },
    {
      "cell_type": "code",
      "source": [
        "seu_peso = float(input(\"Digite seu peso:\"))\n",
        "sua_altura = float(input(\"Digite sua altura:\"))\n",
        "\n",
        "imc = seu_peso / (sua_altura ** 2)\n",
        "\n",
        "if imc < 18.5 :\n",
        "    print(\"Baixo peso\")\n",
        "elif imc >= 18.5 and imc < 25:\n",
        "    print(\"normal\")\n",
        "elif imc >= 25 and imc < 30:\n",
        "    print(\"sobrepeso\")\n",
        "elif imc >= 30 and imc < 35:\n",
        "    print(\"obesidade classe I\")\n",
        "elif imc >= 35 and imc < 40:\n",
        "    print(\"obesidade classe II\")\n",
        "else:\n",
        "    print(\"obesidade classe III\")"
      ],
      "metadata": {
        "id": "ivI_TMIWb4Da"
      },
      "execution_count": null,
      "outputs": []
    },
    {
      "cell_type": "markdown",
      "source": [
        "<h2> 4) Desenvolver uma calculadora, forneça 2 numero e um operador, e mostra o resultado. </h2>"
      ],
      "metadata": {
        "id": "fNVC3X8mhL__"
      }
    },
    {
      "cell_type": "code",
      "source": [
        "num1 = float(input(\"Digite o primeiro número: \"))\n",
        "\n",
        "operacao = input(\"Digite a operação (+, -, *, /): \")\n",
        "\n",
        "num2 = float(input(\"Digite o segundo número: \"))\n",
        "\n",
        "if operacao == \"+\":\n",
        "    resultado = num1 + num2\n",
        "elif operacao == \"-\":\n",
        "    resultado = num1 - num2\n",
        "elif operacao == \"*\":\n",
        "    resultado = num1 * num2\n",
        "elif operacao == \"/\":\n",
        "    resultado = num1 / num2\n",
        "else:\n",
        "    resultado = \"Operação inválida\"\n",
        "\n",
        "print(\"Resultado:\", resultado)"
      ],
      "metadata": {
        "id": "clxnEeeUmeyJ"
      },
      "execution_count": null,
      "outputs": []
    },
    {
      "cell_type": "markdown",
      "source": [
        "<h2> 5) Desenvolver um programa que recebe 4 notas de prova e mostre a media. Se o aluno tiver a media maior ou igual a 5, mostrar \"Aprovado\", Se não \"Reprovado\"</h2>.\n"
      ],
      "metadata": {
        "id": "OKv_aPZunYQ7"
      }
    },
    {
      "cell_type": "code",
      "source": [
        "nota1 = float(input(\"Digite a nota 1:\"))\n",
        "nota2 = float(input(\"Digite a nota 2:\"))\n",
        "nota3 = float(input(\"Digite a nota 3:\"))\n",
        "nota4 = float(input(\"Digite a nota 4:\"))\n",
        "\n",
        "media = (nota1 + nota2 + nota3 + nota4) / 4\n",
        "\n",
        "if media < 5 :\n",
        "    print(\"O aluno foi reprovado!\")\n",
        "    print(\"Que pena...\")\n",
        "else:\n",
        "    print(\"O aluno foi aprovado!\")\n",
        "    print(\"Parabéns...\")"
      ],
      "metadata": {
        "id": "uxERceWcn7eB"
      },
      "execution_count": null,
      "outputs": []
    },
    {
      "cell_type": "code",
      "source": [
        "nota1 = input(\"Digite a nota 1:\")\n",
        "nota2 = input(\"Digite a nota 2:\")\n",
        "nota3 = input(\"Digite a nota 3:\")\n",
        "nota4 = input(\"Digite a nota 4:\")\n",
        "\n",
        "#media = (nota1 + nota2 + nota3 + nota4) / 4\n",
        "\n",
        "if (float(nota1) + float(nota2) + float(nota3) + float(nota4)) / 4 < 5 :\n",
        "    print(\"O aluno foi reprovado!\")\n",
        "    print(\"Que pena...\")\n",
        "else:\n",
        "    print(\"O aluno foi aprovado!\")\n",
        "    print(\"Parabéns...\")\n"
      ],
      "metadata": {
        "id": "hzZQOFdO8YcQ"
      },
      "execution_count": null,
      "outputs": []
    },
    {
      "cell_type": "markdown",
      "source": [
        "<h2> 5-2) Com o mesmo exemplo acima, se o aluno tiver com a nota abaixo de 5, mas acima ou igual a 4 , ele pode fazer um trabalho de reculperação, e se ele tirar 7 ou mais, ele será aprovado.</h2>"
      ],
      "metadata": {
        "id": "U7i6_oxfpNdk"
      }
    },
    {
      "cell_type": "code",
      "source": [
        "nota1 = float(input(\"Digite a nota 1:\"))\n",
        "nota2 = float(input(\"Digite a nota 2:\"))\n",
        "nota3 = float(input(\"Digite a nota 3:\"))\n",
        "nota4 = float(input(\"Digite a nota 4:\"))\n",
        "nota_reculperacao = 0\n",
        "\n",
        "media = (nota1 + nota2 + nota3 + nota4) / 4\n",
        "\n",
        "if media < 5 :\n",
        "    # o aluno foi mal!\n",
        "\n",
        "    if media >= 4:\n",
        "        # se ainda tem salvação\n",
        "\n",
        "        print(f\"O aluno teve a media de {media}\")\n",
        "        print(\"O aluno fará uma prova de reculperação\")\n",
        "\n",
        "        nota_reculperacao = float(input(\"Digite a nota da prova de reculperação:\"))\n",
        "\n",
        "        if nota_reculperacao < 7 :\n",
        "            print(\"O aluno foi reprovado!\")\n",
        "            print(\"Que pena...\")\n",
        "\n",
        "        else:\n",
        "            print(\"O aluno foi aprovado!\")\n",
        "            print(\"Parabéns...\")\n",
        "\n",
        "    else:\n",
        "        # deu ruim!\n",
        "        print(f\"O aluno foi reprovado com a media {media}.\")\n",
        "        print(\"Que pena...\")\n",
        "\n",
        "else:\n",
        "    # o aluno foi bem!\n",
        "    print(f\"O aluno foi aprovado com a media {media}\")\n",
        "    print(\"Parabéns...\")"
      ],
      "metadata": {
        "id": "ufnNHhsBtUmN"
      },
      "execution_count": null,
      "outputs": []
    },
    {
      "cell_type": "markdown",
      "source": [
        "<hr>\n",
        "<hr>\n",
        "<hr>\n",
        "\n",
        "<h1><b>Aula 12/05/2024</b></h1>\n",
        "\n",
        "<h1>Estruturas de repetição  -- Em desenvolvimento...</h1>\n",
        "\n",
        "<p>A Estrutura de repetição é utilizada para executar uma mesma sequência de comandos várias vezes.</p>\n",
        "\n",
        "<p>As estruturas de repetição são conhecidas também como laços (loops).</p>"
      ],
      "metadata": {
        "id": "YoSQm-lnvfdv"
      }
    },
    {
      "cell_type": "markdown",
      "source": [
        "<hr>\n",
        "<h2>Laço While<h2>\n",
        "\n",
        "<p>No laço while, o trecho de código da repetição está associado a uma condição. Enquanto a condição tiver valor <b>\"verdadeiro\"</b>, o trecho é executado.</p>\n",
        "\n",
        "<br>\n",
        "\n",
        "<h3>Como é o codigo?<h3>\n",
        "\n",
        "<p>while (condição) :</p>\n",
        "<p>---->Bloco de comandos</p>\n",
        "\n",
        "<br>\n",
        "<p>Enquanto a condição for verdadeira, continuará repetindo.</p>"
      ],
      "metadata": {
        "id": "bmkY41XbwSbs"
      }
    },
    {
      "cell_type": "code",
      "source": [
        "controle = 1\n",
        "quantidade_repeti = 50\n",
        "\n",
        "while controle <= quantidade_repeti:\n",
        "    print(f\"{controle} - Eduardo\")\n",
        "    controle = controle + 1\n"
      ],
      "metadata": {
        "id": "1ZpwRhQK-0lA"
      },
      "execution_count": null,
      "outputs": []
    },
    {
      "cell_type": "code",
      "source": [
        "numero_vezes = 1\n",
        "\n",
        "while numero_vezes <= 10:\n",
        "    print(f\"Repeti {numero_vezes} vez.\")\n",
        "\n",
        "    numero_vezes = numero_vezes + 1\n"
      ],
      "metadata": {
        "id": "bWwsD92yxL_G"
      },
      "execution_count": null,
      "outputs": []
    },
    {
      "cell_type": "markdown",
      "source": [
        "<p>outro exemplo...</p>"
      ],
      "metadata": {
        "id": "Op5E0FO75zeh"
      }
    },
    {
      "cell_type": "code",
      "source": [
        "\n",
        "senha = \"12345\"\n",
        "txt_usuario =\" \"\n",
        "\n",
        "while (txt_usuario != senha):\n",
        "    txt_usuario = input(\"Digite a senha: \")\n",
        "\n",
        "    if txt_usuario == senha :\n",
        "        print('Acesso liberado ')\n",
        "    else:\n",
        "        print('Senha incorreta. Tente novamente')\n",
        "\n",
        "print(\"Fim do programa\")"
      ],
      "metadata": {
        "id": "QeF5SzYt6Fy_"
      },
      "execution_count": null,
      "outputs": []
    },
    {
      "cell_type": "markdown",
      "source": [
        "<h2> 5) Desenvolver um programa que recebe 4 notas de prova e mostre a media utilizando \"while\". Se o aluno tiver a media maior ou igual a 5, mostrar \"Aprovado\", Se não \"Reprovado\"</h2>."
      ],
      "metadata": {
        "id": "4uc0g9E1GKGB"
      }
    },
    {
      "cell_type": "code",
      "source": [
        "continuar = True\n",
        "\n",
        "while continuar:\n",
        "    nota1 = input(\"Digite a nota 1:\")\n",
        "    nota2 = input(\"Digite a nota 2:\")\n",
        "    nota3 = input(\"Digite a nota 3:\")\n",
        "    nota4 = input(\"Digite a nota 4:\")\n",
        "\n",
        "    #media = (nota1 + nota2 + nota3 + nota4) / 4\n",
        "\n",
        "    if (float(nota1) + float(nota2) + float(nota3) + float(nota4)) / 4 < 5 :\n",
        "        print(\"O aluno foi reprovado!\")\n",
        "        print(\"Que pena...\")\n",
        "    else:\n",
        "        print(\"O aluno foi aprovado!\")\n",
        "        print(\"Parabéns...\")\n",
        "\n",
        "    if input(\"Deseja continuar? = 1 - sim 2 - não\") == \"1\":\n",
        "        continuar = True\n",
        "    else:\n",
        "        continuar = False\n",
        "\n",
        "print(\"fim do programa\")"
      ],
      "metadata": {
        "colab": {
          "base_uri": "https://localhost:8080/"
        },
        "id": "JXby4PvEH1Cf",
        "outputId": "d6e5bf5b-f348-4d30-e26e-8156f15e6a60"
      },
      "execution_count": null,
      "outputs": [
        {
          "output_type": "stream",
          "name": "stdout",
          "text": [
            "Digite a nota 1:5\n",
            "Digite a nota 2:6\n",
            "Digite a nota 3:7\n",
            "Digite a nota 4:8\n",
            "O aluno foi aprovado!\n",
            "Parabéns...\n",
            "Deseja continuar? = 1 - sim 2 - não1\n",
            "Digite a nota 1:8\n",
            "Digite a nota 2:9\n",
            "Digite a nota 3:7\n",
            "Digite a nota 4:5\n",
            "O aluno foi aprovado!\n",
            "Parabéns...\n",
            "Deseja continuar? = 1 - sim 2 - não2\n",
            "fim do programa\n"
          ]
        }
      ]
    },
    {
      "cell_type": "code",
      "source": [
        "\n",
        "continuar = True\n",
        "\n",
        "while continuar:\n",
        "    soma_nota = 0\n",
        "    cont_nota = 4\n",
        "    while cont_nota > 0:\n",
        "        soma_nota += float(input(\"Digite a nota\"))\n",
        "        cont_nota = cont_nota - 1\n",
        "\n",
        "    if (soma_nota / 4) < 5 :\n",
        "        print(\"O aluno foi reprovado!\")\n",
        "        print(\"Que pena...\")\n",
        "    else:\n",
        "        print(\"O aluno foi aprovado!\")\n",
        "        print(\"Parabéns...\")\n",
        "\n",
        "    if input(\"Deseja continuar? = 1 - sim  - não\") == \"1\":\n",
        "        continuar = True\n",
        "    else:\n",
        "        continuar = False\n",
        "\n",
        "\n"
      ],
      "metadata": {
        "colab": {
          "base_uri": "https://localhost:8080/"
        },
        "id": "yZHPxBdCGwMn",
        "outputId": "b4ef3bd2-cf2c-4863-c3a9-e972553c2e95"
      },
      "execution_count": null,
      "outputs": [
        {
          "name": "stdout",
          "output_type": "stream",
          "text": [
            "Digite a nota5\n",
            "Digite a nota5\n",
            "Digite a nota5\n",
            "Digite a nota5\n",
            "O aluno foi aprovado!\n",
            "Parabéns...\n",
            "Deseja continuar? = 1 - sim 2 - não1\n",
            "Digite a nota5\n",
            "Digite a nota5\n",
            "Digite a nota9\n",
            "Digite a nota7\n",
            "O aluno foi aprovado!\n",
            "Parabéns...\n",
            "Deseja continuar? = 1 - sim 2 - não2\n"
          ]
        }
      ]
    },
    {
      "cell_type": "markdown",
      "source": [
        "<hr>\n",
        "<h2>Laço For<h2>\n",
        "\n",
        "<p>O laço for é a estrutura de repetição que pode ser utilizado com uma sequência numérica (gerada com o comando range) ou associado a uma lista.</p>\n",
        "\n",
        "<br>\n",
        "\n",
        "<h3>Como é o codigo?<h3>\n",
        "\n",
        "<p>for  variável  in range(início, limite, passo):</p>\n",
        "<p>----->Bloco de comandos</p>\n",
        "\n",
        "<br>\n",
        "\n",
        "<p>ou</p>\n",
        "\n",
        "<br>\n",
        "\n",
        "<p>for variável in [lista] :</p>\n",
        "<p>----->Bloco de comandos</p>\n",
        "\n",
        "<br>\n",
        "\n",
        "<p>PS: A lista não será explicado agora, mas no fulturo...</p>\n"
      ],
      "metadata": {
        "id": "D4w4UE8m2zGa"
      }
    },
    {
      "cell_type": "code",
      "source": [
        "for numero_pares in range(0,10,2):\n",
        "    print(numero_pares)"
      ],
      "metadata": {
        "id": "1Px833434wC0",
        "colab": {
          "base_uri": "https://localhost:8080/"
        },
        "outputId": "adbd3d0c-f3dc-4dc0-9383-344ccc8c1f1f"
      },
      "execution_count": null,
      "outputs": [
        {
          "output_type": "stream",
          "name": "stdout",
          "text": [
            "0\n",
            "2\n",
            "4\n",
            "6\n",
            "8\n"
          ]
        }
      ]
    },
    {
      "cell_type": "code",
      "source": [
        "minha_lista = [\"arroz\",\"gato\",\"tenis\"]\n",
        "\n",
        "for x in minha_lista:\n",
        "    print(x)\n"
      ],
      "metadata": {
        "colab": {
          "base_uri": "https://localhost:8080/"
        },
        "id": "H7Fn-IDhBswJ",
        "outputId": "0ef4cd80-ebab-4b8b-9201-c2f4aea954ef"
      },
      "execution_count": null,
      "outputs": [
        {
          "output_type": "stream",
          "name": "stdout",
          "text": [
            "arroz\n",
            "gato\n",
            "tenis\n"
          ]
        }
      ]
    },
    {
      "cell_type": "code",
      "source": [
        "login = [\"Eduardo\",1234]\n",
        "for x in login:\n",
        "    print(x)\n"
      ],
      "metadata": {
        "colab": {
          "base_uri": "https://localhost:8080/"
        },
        "id": "ptypRAqsCSRo",
        "outputId": "eac01a62-fc78-47d9-bdce-cd01351793ff"
      },
      "execution_count": null,
      "outputs": [
        {
          "output_type": "stream",
          "name": "stdout",
          "text": [
            "Eduardo\n",
            "1234\n"
          ]
        }
      ]
    },
    {
      "cell_type": "markdown",
      "source": [
        "<hr>\n",
        "<hr>\n",
        "<hr>\n",
        "\n",
        "<h1><b>Aula 26/05/2024</b></h1>\n",
        "\n",
        "<h2>Função.</h2>\n",
        "\n",
        "<p><b>Em desenvolvimento...</b></p>\n",
        "\n",
        "<p>Funções são pequenos trechos de código reutilizáveis. Elas permitem dar um nome a um bloco de\n",
        "comandos e executar esse bloco, a partir de qualquer lugar do programa.</p>\n",
        "\n",
        "\n"
      ],
      "metadata": {
        "id": "W1E91zgt6iUd"
      }
    },
    {
      "cell_type": "markdown",
      "source": [
        "<h2>Como criar uma função:</h2>\n",
        "<p>def  nome_função (definição dos parâmetros) : </p>\n",
        "<p>-----> Bloco de comandos da função </p>\n",
        "<br>\n",
        "\n",
        "<p> Exemplos: </p>\n"
      ],
      "metadata": {
        "id": "viu6Qwhb-zEG"
      }
    },
    {
      "cell_type": "code",
      "source": [
        "def soma(num1,num2):\n",
        "    # num1 = 2\n",
        "    # num2 = 5\n",
        "    resultado = num1 + num2\n",
        "    return resultado\n"
      ],
      "metadata": {
        "id": "Am2qpmLXFzlj"
      },
      "execution_count": null,
      "outputs": []
    },
    {
      "cell_type": "code",
      "source": [
        "def msg():\n",
        "    print(\"Bom Dia\")"
      ],
      "metadata": {
        "id": "lOgxnwww_Xpz"
      },
      "execution_count": null,
      "outputs": []
    },
    {
      "cell_type": "code",
      "source": [
        "msg()"
      ],
      "metadata": {
        "id": "0W9HB2Bc_nLC",
        "colab": {
          "base_uri": "https://localhost:8080/"
        },
        "outputId": "34c05ee8-d804-453e-e930-22af9dcc33de"
      },
      "execution_count": null,
      "outputs": [
        {
          "output_type": "stream",
          "name": "stdout",
          "text": [
            "Bom Dia\n"
          ]
        }
      ]
    },
    {
      "cell_type": "markdown",
      "source": [
        "<p>Outro exemplo...</p>"
      ],
      "metadata": {
        "id": "tlEkPiCZ_5ET"
      }
    },
    {
      "cell_type": "code",
      "source": [
        "def mostra_numero_pares(num_final):\n",
        "    ''' mostrará numero pares do 0 até o numero fornecido'''\n",
        "\n",
        "    for num in range(1, num_final, 2):\n",
        "        print(num)\n"
      ],
      "metadata": {
        "id": "oVa_NtKg__-e"
      },
      "execution_count": null,
      "outputs": []
    },
    {
      "cell_type": "code",
      "source": [
        "mostra_numero_pares(200)"
      ],
      "metadata": {
        "id": "wuSAHhfUAfpq"
      },
      "execution_count": null,
      "outputs": []
    },
    {
      "cell_type": "markdown",
      "source": [
        "Criar uma calculadora"
      ],
      "metadata": {
        "id": "oOEwmPcKzpwx"
      }
    },
    {
      "cell_type": "code",
      "source": [
        "def soma(n1,n2):\n",
        "    return n1 + n2\n",
        "\n",
        "def subtracao(n1,n2):\n",
        "    return n1 - n2\n",
        "\n",
        "def mutiplicacao(n1,n2):\n",
        "    return n1 * n2\n",
        "\n",
        "def divisao(n1,n2):\n",
        "    return n1 / n2\n",
        "\n",
        "def instrucao():\n",
        "    print(\" ______________________ \")\n",
        "    print(\"|  ***Calculadora***   |\")\n",
        "    print(\"|______________________|\")\n",
        "    print(\"| s - Sair | z - zerar |\")\n",
        "    print(\"|______________________|\")\n",
        "\n",
        "def calcular(n1,n2,simbolo):\n",
        "    if simbolo == \"+\":\n",
        "        return soma(n1,n2)\n",
        "    if simbolo == \"-\":\n",
        "        return subtracao(n1,n2)\n",
        "    if simbolo == \"*\":\n",
        "        return mutiplicacao(n1,n2)\n",
        "    if simbolo == \"/\":\n",
        "        return divisao(n1,n2)\n",
        "\n",
        "def mostra_resultado(result):\n",
        "    print(f\"Resultado: {result}\")\n",
        "\n",
        "def msg_erro():\n",
        "    print(\"**Erro de digitação**\\n\")\n",
        "\n",
        "# -- main --\n",
        "def app_calculadora():\n",
        "\n",
        "    resultado = 0\n",
        "    controle = \"\"\n",
        "    calculadora_ligada = True\n",
        "    simbolo = \"\"\n",
        "\n",
        "\n",
        "    while calculadora_ligada:\n",
        "        instrucao()\n",
        "        mostra_resultado(resultado)\n",
        "\n",
        "        controle = input()\n",
        "\n",
        "        # -- controle --\n",
        "        if controle in [\"z\",\"s\"]:\n",
        "            if controle == \"z\":\n",
        "                resultado = 0\n",
        "                simbolo = \"\"\n",
        "            else:\n",
        "                calculadora_ligada = False\n",
        "\n",
        "        # -- Se é numero --\n",
        "        elif controle.isdigit() and simbolo == \"\":\n",
        "            if resultado != 0:\n",
        "                resultado = 0\n",
        "                resultado = soma(resultado,int(controle))\n",
        "            else:\n",
        "                resultado = soma(resultado,int(controle))\n",
        "\n",
        "        elif controle.isdigit() and simbolo != \"\":\n",
        "            resultado = calcular(resultado,int(controle),simbolo)\n",
        "\n",
        "        elif controle in [\"+\",\"-\",\"*\",\"/\"]:\n",
        "            simbolo = controle\n",
        "\n",
        "        else:\n",
        "            msg_erro()\n",
        "\n",
        "    print(\"Fim do Programa!\")\n"
      ],
      "metadata": {
        "id": "Y3AdfGo0zpFq"
      },
      "execution_count": null,
      "outputs": []
    },
    {
      "cell_type": "code",
      "source": [
        "app_calculadora()"
      ],
      "metadata": {
        "id": "n4fkmwDP09vW"
      },
      "execution_count": null,
      "outputs": []
    },
    {
      "cell_type": "markdown",
      "source": [
        "<h1>Sistema de Login</h1>\n",
        "<p>Utilizando <b>\"tudo\"</b> que aprendemos até hoje.</p>"
      ],
      "metadata": {
        "id": "m_ZiwnK77cdb"
      }
    },
    {
      "cell_type": "code",
      "source": [
        "lista_usuarios = [\n",
        "    # 0  [0   ,  1 ]\n",
        "    [\"Eduardo\",\"1234\"],\n",
        "    # 1  [0   ,  1 ]\n",
        "    [\"Maria\",\"1234\"],\n",
        "    # 2  [0   ,  1 ]\n",
        "    [\"João\",\"9876\"],\n",
        "]\n",
        "\n",
        "def altenticar_usuario(login,senha):\n",
        "\n",
        "    for item_lista in lista_usuarios:\n",
        "\n",
        "        if login == item_lista[0] and senha == item_lista[1]:\n",
        "            return True\n",
        "\n",
        "    return False\n",
        "\n",
        "def informacoes():\n",
        "    print(\" _______________________________\")\n",
        "    print(\"| Bem vindo ao sistema de login |\")\n",
        "    print(\"|                               |\")\n",
        "    print(\"|_______________________________|\")\n",
        "\n",
        "#  -- main --\n",
        "def app_login():\n",
        "    nao_logado = True\n",
        "\n",
        "    while nao_logado:\n",
        "\n",
        "        informacoes()\n",
        "\n",
        "        login_usuario = input(\"Digite o login:\")\n",
        "        senha_usuario = input(\"Digite a senha:\")\n",
        "\n",
        "        if altenticar_usuario(login_usuario,senha_usuario):\n",
        "            print(\"Login Efetuado com sucesso!\")\n",
        "            nao_logado = False\n",
        "\n",
        "        else:\n",
        "            print(\"ERRO de Login e senha\")"
      ],
      "metadata": {
        "id": "ugHUBglg7wrD"
      },
      "execution_count": null,
      "outputs": []
    },
    {
      "cell_type": "code",
      "source": [
        "app_login()"
      ],
      "metadata": {
        "id": "4zoKuWc-Kj6q"
      },
      "execution_count": null,
      "outputs": []
    }
  ]
}