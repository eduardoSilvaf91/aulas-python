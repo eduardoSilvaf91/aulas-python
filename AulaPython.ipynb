{
  "nbformat": 4,
  "nbformat_minor": 0,
  "metadata": {
    "colab": {
      "provenance": [],
      "mount_file_id": "1NKkfkrN2fYLfjENPL-tZaO9sAxkJpMPi",
      "authorship_tag": "ABX9TyPU2Mp9ym5kPC4RFSbBpAK/",
      "include_colab_link": true
    },
    "kernelspec": {
      "name": "python3",
      "display_name": "Python 3"
    },
    "language_info": {
      "name": "python"
    }
  },
  "cells": [
    {
      "cell_type": "markdown",
      "metadata": {
        "id": "view-in-github",
        "colab_type": "text"
      },
      "source": [
        "<a href=\"https://colab.research.google.com/github/eduardoSilvaf91/aulas-python/blob/main/AulaPython.ipynb\" target=\"_parent\"><img src=\"https://colab.research.google.com/assets/colab-badge.svg\" alt=\"Open In Colab\"/></a>"
      ]
    },
    {
      "cell_type": "markdown",
      "source": [
        "# Indice\n",
        "1. Introdução ao Python\n",
        "2. Tipos de Dados\n",
        "3. Variaveis\n",
        "4. Comentário\n",
        "5. Funções de entrada e saída de dados: (input e print)\n",
        "6. Formatando e inserir variáveis no texto\n",
        "7. Operações\n",
        "8. Estruturas Condicionais: (if, elif, else)\n",
        "9. Estruturas de repetição: (while e for)\n",
        "10. Função\n",
        "11. Tratamento de Erros e Exceções\n",
        "12. Biblioteca (Library)\n",
        "13. Manipulação de Listas | (Em dev!)\n",
        "\n",
        "* #Projeto Final\n",
        "\n",
        "\n"
      ],
      "metadata": {
        "id": "psICOlRDQX4u"
      }
    },
    {
      "cell_type": "markdown",
      "source": [
        "<h1><b>1. Introdução ao Python</b></h1>\n",
        "<br>\n",
        "\n",
        "![iconPython.png](data:image/png;base64,iVBORw0KGgoAAAANSUhEUgAAAPAAAADwCAYAAAA+VemSAAAACXBIWXMAAAsTAAALEwEAmpwYAAARYklEQVR4nO3de5QlRX0H8Oq6O1V3gchDEZGHJEHkFSIxQIIaxEOMGA9iyBoxgYRI8EgCy8adqjtL4iUmJB5Fw8PjCT4wEVGZYwyKLCu3arp6ZlleqyGEA6wCHiIQwWV5P2SX+eX0nQ3RCGx3z535dVd/P+f8/th/Zs+t/n277u2urhYCAAAAAAAAAAAAAAAAAAAAAAAAAAAAAAAAAAAAAAAAAAAAAAAAAAAAAAAAAAAAACAKvcHLRW/qDR3jf08ad1Zi3ccT6y5JrPuGNG6tNO52afxd0viN0rhN0vpHpPUkrZvd+u/7pHV3SuPWS+unE+OuSKy7QBq/Uhr3XjEx9Uaxyu3B/TEBmqvfl6I32K9j3bul8ROJ8ZfOBc49NhfGRSjjH5XW35CfHKQZ/KUw/kixYt1S7qEBqJ9V2e6y509MjLtw6yz6+KIFtVSo3WZp3M2J8ed3ev5t4ozVmnvoABZfP13Ssf6tW7+6bmAPZvV6KDH+U2KlOwRtBPGbSA/eGtqNNQjfCMvNJsZdJYw7nHuIAUauM+6OTqyf4g/aogT5X8SE2w1tBM3XS/dNrL+GP1iLXg907NS7uIcfoDI5PnW6tO6pGoSJcTb25w6vqAM0xrLJTmL95/gDVI9KrP9KftGO+7AAbFu/LxPrvsgdmrpVYt3l+YkNLQS1Jo3rc4elrpVY/wnu4wPw4ow/Ulq/hTsoNa/3oYWgfvp9KY2/sQYBqXs9Ij7kX8N9uAB+Rmd88M4ahKMRlVj3r2gfqJV8FRJ3MJpUYty9mfuYAcyxgx2ldc9yh6JJlVi3Bu0DtdCxUydwB6J55WbFhDuQ+9gBiPyBev5ANK+Gq7QAuCXWOe4wNLS+x33sAIS0/u4ahKGRJc5esxdaCBhRUukClvFP5s8FC+t/S0xM7yr6kyq/PyrH/UmJ8Sl3sBat8j24ANj0v7ldhcad2damcXMXxhZx/yumSoz728U7WAD/38T0riUb1hfeR2o8/fV8po48wF9GUwGf/Gtv0YY1fuNwS9gSpPF/FnWArXMLd3AAtmXCHViiYXulB3TZZGe4z3MNwrYgZdz1aDLgYweHFm3Wqov4o35E0bibR39QAEYf4AeqDmqn59/BHjQEGFoe4Nsq/x+9wWHsQUOAIUqYgfEVGlryG9im+1T5L6R1H2afKTEDQ9sDnL/9r9JOH9bdyh40BBiiVCrA7kHRm9m5zJ+Xxp/CHjIEGKJVJsD/+yD7aevHCv3tlenra/uWwlEVbiNBkwI8Vy6I8Wte/VJ/dvhe4OdfzB1xIcDQvAD/1NNI41NHDV8Elj+NZNN9pPUnt+xpJCzkgAYGGIUAQw0gwJiBocEQYAQYGgwBRoChwRBgBBgaDAFGgKHBEGAEGBoMAUaAocEQYAQYGgwBRoABWnvSKbiUksLYoZRpGkkF/SwFvYkydScFtYYyfT5l6gQa/EKpHUMBeLQ9wNmL1hbK1NUUxt5DqViy8AcCoAoEmArM0htoegyvfYEaQoCp+NdttYZmuntzHzKA/4MAU8nfzA9Rqo9BC0E9IMBU4ffxZpru/hH3oQNAgLPKV6+fo9A9GS0EvDAD07xuQeHrNCDAtbyNRAVDvIlSXWmPb4D5wwxM8w+xWkuTooN2nK9+X4qV7hBp3amJ8ecl1l8pjVsvjb9XGrdJWr+FfbECqikLOahkiD+EAFexYs0u0gz+ODH+663YejXmanSA9WOULt0TIS7KpL+RGH+pNO5p9sZDIcBZHmR1CQK8Lb2pIxLrr0FoIjxxNHkGzoa1hYI6ACF+weDO7JwYd7G0bpa90VAIcPZiIVafQYB/7uuyO1xafzeCE/nJo/kzMFHQT9KMKPXSuqjJ8anTpXGb2ZsLhQBnhYP8F9y5qYXE+nMQnBadPGKYgbNh3UYkEtFm0vq/Ym8oFAKcVQ1x90jRVtK6P8HFqhaeQOKZgYky/VHRShPpwdK6p9ibCYUAZ/MK8H+K1umnXWn9bQhPS08gcc3A1LqHHHDRqgYhQoBphCH+c9EavcEvYVlk2wPsb4xqBs70N0RbJNZ/jr2BUKxjkBj37bgCrH7cjttJdrC3NP4nCFC7TyKJdZcVaReaGXsDfzh1sfL6l0XsEuv/jrt5ULUYg16RfqHp7lHswcwKVvSb3y2b7EjrfliD5kExj0Gn599WpGUoqOPYg5kVrKAuEjHr9AbHcDcOqhZj8IRYsW5pkZ6hTL+/OQHW60XMEuv/sQbNg2Ieg8S4rxXtGcr0eQ0K8LO0ThQ6MTWSNH4Dd/Og+Mcg/yZWtGco06vZg5mVqbFfE1Ey6Z7cjYOqxRjcIgQVut1CJCQF9SB/KHXxSrsniRhJ499Tg+ZBMY9Bp+ffUbRnGnULKYv8wYbEuE9yNw+KdwwS479ZpmcoUxM1CCSVqqC/JWIkjbseAWr1SeQBsSrbvUzPUNA3Ny/A6m4RnTNWa2n9MzVoIhTHGBi3ucyFqwZ/fSYKepbWi+1EVIw/EuFp68ljuLPon5ZtGcrUxexhzCrWtNpPxESaqTP5Gwm1+DOvf04aV3rTt/ytB5TpZ9iDmFWehY8WMUmM/ywC1LoTyDNyfPCHVfqFgrqQPYTZfGqs0ueuLWnddTVoKNTijcE9+etwqvQKBfXaRs++2fBClhHxoERa9xgC1IYTiJtNrPuMWJ7uVLlbMnU1ewCzedcFIho23Ye/sVALPgbGrxN28Kb5tAqF7sk1CB+NYAb+kohFZ3zwTgQo6hnXlVld9WIo1ftS0I/GEWBd+GGN2pPWLedvNNSIg3trvjGDmEj3H0WP5E/wUNDfYQ9eNrK6SsQiMf48BKiBJ5D8XczGb8y3/k2s+9ZwKaxx7xVnr9lrlP2R7yNFmb6sBqGj0ZWaErFIjP8qezPW5Z6odTclxp8vrTtV9AaH5dcH8lepFn06J0aU6U/wB06POsDXiVhI665lDw9ruZC/PkZMuN24j0WdDGfeoD/GHzY9+gr6OyIW+T3BFob22cT6fxIT7kDu8a8jmhQdytSn2YOWLdgMPCNikTdzy67KXiZW+vi3F62IrhcvyzdB5w+ZXsAZWBXa87r++pOKP1SLVMb9oOwTN22TbzdDmbqTPWDZQgdY/5uIwvJ0J/ZgLUIlxn1e9NMduIe7rmi9GKOgLAX9E/ZwZYsyA0eykGOV2yPyWXez7DnLPcz1vlClllHQG9hDlS1mqYtFFHrpvuwhW7Byjwk7eAv3ENd2xp1Wv0+Zvok/TJqjzhFRsINfiTS8D1d92iZWcztILjmMMn0uBXV/DUJEjHWqiMJEuj9/2EZeTwjjDhctRanoktt+t3zXCQrq2PzRubmVVOpHNQgO1aJS/XYRhfieRNrSGXfHj3KI6FahKHR/k6bVCgrqnymotZSpeynoTcP9lbibEUWlx2Bm7CARhZXpq2oQutGVcWeNYlgoFUsoqHdTpr9MmX4EIYnsRDEQO4oo2MGO7KEbUSXGXTXfNcuUip0oqA9TUPexNxmKFmYM1I9FZNvJUgR1n+gNXj6vr8mZ6g2/FiM4kZ88VCpiEsV2Or3BH1T9/JR230SZvo2/sVC0GGMQ1IUiJtK6O9gDOI9KjB/MYxHDcsr0ZoSnRSePoE8TMUmM89whrF5uVlj/qxV3mLiCvZlQtPhj0D1SxCSx7ovNnX3dFWU/b34FMn+cDOFp4Qkk6Nl4rkBvlVj3D9xBrFqiN3VEhYtVA/ZGQhHTGNwuYiOt/yB3ECuVcTeX/axb7+siQG0dg6C+IKJjB29pZoCnzizzMSnTH2BvIBTxBjiyC1hDE9O7soexdLnZMntYUaZ/kYJ+CgFq+UlkeuwQEaP85c7Nmn39d8t8vnwHBvbmQRHz7PtYvteXiFFi/RR7KEtUYtzHin42ml56BMKDEwgF5USsEusv4g5lmerYqROKfjbK9CQCjABTpiZErPKNzLlDWaaEueaAIp+LpnfYFSutEF7Kx2BmrPSCn+Zo0s4cxm0Wp60fK/KxKNWnYPZFgCmoe/KlsyJa/b6U1j/CHs5C5Qo/DkaZvhwBRoAp0+eK2OUPBTRjBvZ3Ff1MlKnvI8AtD3DQs/mrUUXsEus+wh7OYnVLkc9D68V2FPRz7A2EIuYxWC3aIH8JdExLKCnr7oXwsIeH2Gu6+0bRCivW7DL3is1IAjwzdhB786CIeQzieZF3EdL4G6MJcBg7FAFqdT1Da9XrRJsk1p/DHlAEmLvxIyn116J1eoPD2AOKANeg+RteQYVo1z1v+36w+2/2kOIrNH8ImrxoI9tud9FWifGfZQ8pAswfhEaW2khBFVpmG6/e1BHsIUWAaxCGhlVQD+QvKOeOTy1I49azB/XFCleh+cNSu1Lfp6Bey52b2pC9qdPYg4oA1yAYDaigr6AZsTN3Zuqln+5Q24cbMAPzh6YOFfRD+R5XcT9lNA+J8eeyhxUB5g9K/epxCvrvMetuy/J0J2ncJvbAYgbmDkxNSv2AglpF6Q6vWJQZLAbS+hXsgUWA21tB30FBf5Kmu0cRCcmdh+bpp0vy35zsof3pwm/gmOqJrb9l76BMTVNQl+Z7V1FQx9G127+Su/3jMJEeLI17mj24TQ5w0KXfIgEwMtK4s9iDiwADVJcYdzF7eDEDA1TUn1SJ9asRYHyFhqY6Y7VOrL8SMzB+A0NTLZvsJMZ/FF+hcRELGqxjp94ljbsfv4FxFRqaanm6U/6iMWn8k7iIhdtI0FQTbjdp/IQ0fgOuQuM+MDTZRLq/HJ86PbHuEmndtdL4e6V1D+M2EgAUVquVWE0srB4DTggwAgwNhgAjwNBgCDACDA2GACPA0GAIMAIMDYYAI8DQYAgwAgwNhgAjwNBgCDACDA3WqgAH/RQFdeFw98Zrt38l3SoUzXT3pnTsRArq21iJBY3TngCrGXJL93jpsVDHDnd/LHdSwEZ8wKcVAQ7K5bNtofGYGTuIMv0IAgyNEH+A1UZaJ3YpOSbvQ4ChEVoQ4PHSY0IioaD/o9jsjq/QwCjqAAc9S1l3r2rjos5GgKH2og5wpn5UfVzUsQgw1F7cAda3VR+XJYchwFB7UQc4qAcrj0umfhcBhtqLOsB5pXqfauOi+ggw1B4FdQB7yBZ2Fl5VekxIyPzrd8EA37AwRwaggOFSQu6QLWw9XPYdupTp9xf/+2oKjQZsaJ1YOne7hT1oC1hqmlLRLTQe6djrhy/ULvq3g75y4Y8SwEugTN3LH7IFrqCu39bvYZpWx5daRjkX4K+iuYAVZeoa9oAtTj1Dmfo0BX00ue13Gz6N5LuvobR7EgXlq/1NdTHaF1gVvuKKeqGZ/Wy0L7Ci0H0zwlnxBJWOnYj2BVZzt01a8Dt4IWqteh3aF9hR0B9nD0PTKuhN+cmP+9gBCEqX7klBP8seiiZVUF9C60BtUFBfYA9Fk2paHc99zACeR2uXvrrUIoY2V1D/RalYgvaBWqGgzmQPRzPqA9zHCuCFt5Npz8KOqvVdmhQdtA/UUr4JHGX6ezUISh3r8fwJLu5jBPCSaFrtR0HdX4PA1KmeplS/Ha0DjZAvUqBM/bAGweGvoB+lTP8O9zEBqHJl+ib2APHWLVhxBc1+ZjjTF8T/3PDP1ROUqR6tF2PcxwBg3oaP4QV9ayuCmy8tLbmTB0Dt5YsX8nugFNRdNQjaaCvoG4af7XrxMu5xBlj4IAe1jDJ1NWV6S4NfN+ooqOVVd68EaLzh7hapPoUyfflwiWFtA6vuoUx/ffjalPwZ6NVCc48dQO1Qut2rKKjjKOiPUNBfo0zfvrhPOuW3vtSAgrqIUv1ByvRbKd3hFdzjAtBYw/2n8vvKqT5mOFsPt/FRn5/7Cq6uy9/yN/xdHdSDzz9QkYc+f+Z2WOqerb+7/30unPorFNSnKNN/Q5k+lYL+7eHiE8yqAAAAAAAAAAAAAAAAAAAAAAAAAAAAAAAAAAAAAAAAAAAAAAAAAAAAAAAAAAAAACAi9T/ywmtQUopNeQAAAABJRU5ErkJggg==)\n",
        "\n",
        "\n",
        "<h1><b>Bem vindo a aula de Python!</b></h1>\n",
        "\n",
        "<br>\n",
        "<p>Bem-vindo ao curso de Python! Neste curso, você aprenderá os conceitos fundamentais da programação com a linguagem Python, uma das mais populares e versáteis. Vamos explorar sintaxe, estruturas de controle, funções e muito mais, desenvolvendo projetos práticos que ajudam a solidificar o aprendizado.</p>\n",
        "\n",
        "<br>\n",
        "<hr>\n",
        "<br>\n",
        "\n",
        "<h2><b>Para começar, vamos perguntar se existe algum aluno que já conhece algo sobre \"linguagem de programação\".</b></h2>\n",
        "\n",
        "<br>\n",
        "<hr>\n",
        "<br>\n",
        "\n",
        "\n"
      ],
      "metadata": {
        "id": "MRBRLG-KgcNL"
      }
    },
    {
      "cell_type": "markdown",
      "source": [
        "<h2><b>A final, o que é linguagem de programação? </b></h2>\n",
        "\n",
        "<p>Uma linguagem de programação é um conjunto de regras e símbolos usados para criar programas de computador. Ela permite que os desenvolvedores escrevam instruções que a máquina pode entender e executar, possibilitando o desenvolvimento de aplicativos, jogos, sites e muitos outros tipos de software</p>\n",
        "\n",
        "<p>Cada linguagem possui uma <b>sintaxe</b> específica, ou seja, uma forma estruturada de escrever os comandos, e oferece ferramentas para resolver problemas de diferentes maneiras. Em resumo, uma linguagem de programação é a ponte entre a ideia de um desenvolvedor e a execução do computador.</p>\n",
        "\n",
        "<br>\n",
        "<hr>"
      ],
      "metadata": {
        "id": "TKKiqzvVPxAF"
      }
    },
    {
      "cell_type": "markdown",
      "source": [
        "<h1><b>O que é python?</b></h1>\n",
        "\n",
        "<p>Python é uma linguagem de programação de alto nível, <b>\"interpretada\"</b>, dinâmica e multiplataforma, conhecida por sua simplicidade e legibilidade.</p>\n",
        "<p>Criada por <b>Guido van Rossum</b> e lançada em 1991, Python é projetada para ser fácil de ler e escrever, com uma sintaxe que permite aos programadores expressar conceitos de forma concisa e clara.</p>\n",
        "\n",
        "<h3><b>Por que escolher Python?</b></h3>\n",
        "<ul>\n",
        "<li>\n",
        "<b>Facilidade de aprendizado:</b>\n",
        "<p>Python é uma excelente escolha para iniciantes, devido à sua sintaxe simples e estrutura limpa.</p>\n",
        "</li>\n",
        "<li>\n",
        "<b>Versatilidade:</b>\n",
        "<p>Pode ser usado para uma grande variedade de tarefas, desde desenvolvimento de software até análise de dados e aprendizado de máquina.</p>\n",
        "</li>\n",
        "<li>\n",
        "<b>Popularidade:</b>\n",
        "<p>Python é uma das linguagens mais populares do mundo, com uma vasta comunidade de desenvolvedores.</p>\n",
        "</li>\n",
        "<li>\n",
        "<b>Integração e automação:</b>\n",
        "<p>Python pode ser facilmente integrado a outras linguagens e tecnologias, além de ser excelente para automação de tarefas.</p>\n",
        "</li>\n",
        "<ul>"
      ],
      "metadata": {
        "id": "ZKDux1N9ANG_"
      }
    },
    {
      "cell_type": "markdown",
      "source": [
        "<h1><b>Diferenças da linguagem interpretada e compilada.</b></h1>\n",
        "\n",
        "<p><b>Compilada:</b> O código-fonte é transformado em código de máquina (código binário) antes de ser executado, gerando um Arquivo executável(.exe). Exemplos incluem C, C++ e Go. O desempenho tende a ser melhor, mas o processo de desenvolvimento pode ser mais demorado (precisa compilar o código antes de testar).</p>\n",
        "\n",
        "<p><b>Interpretada:</b> O código-fonte é traduzido em código de máquina em tempo real, e executado diretamente pelo interpretador, linha por linha. Exemplos incluem Python, JavaScript e Ruby. O desenvolvimento tende a ser mais rápido, pois você pode testar o código imediatamente, mas o desempenho pode ser mais lento.</p>"
      ],
      "metadata": {
        "id": "lh20DDy0C8uU"
      }
    },
    {
      "cell_type": "markdown",
      "source": [
        "\n",
        "<hr>\n",
        "<h1><b>O PEP 8</b></H1>\n",
        "\n",
        "<p>PEP 8 é um guia de estilo para Python que define regras para escrever código claro e consistente, cobrindo aspectos como indentação, espaçamento e nomeação, visando facilitar a leitura e colaboração entre desenvolvedores.</p>\n",
        "\n",
        "<br>\n",
        "\n",
        "<h2><b>Como escrever o codigo em python segundo essa convenção?</b></h2>\n",
        "\n",
        "<p>Para escrever código em Python seguindo a convenção PEP 8, é preciso adotar práticas como:</p>\n",
        "\n",
        "<ul>\n",
        "    <li>\n",
        "    Usar 4 espaços para indentação (ou uma tabulações).\n",
        "    </li>\n",
        "    <li>\n",
        "    Manter linhas de código com no máximo 79 caracteres.\n",
        "    </li>\n",
        "    <li>\n",
        "    Deixar duas linhas em branco entre funções e classes.\n",
        "    </li>\n",
        "    <li>\n",
        "    Usar nomes de <b>\"variáveis\"</b> em minúsculas com palavras separadas por underscores (ex: minha_variavel).\n",
        "    </li>\n",
        "    <li>\n",
        "    Nomear classes com a primeira letra maiúscula em formato CamelCase (ex: MinhaClasse).\n",
        "    </li>\n",
        "    <li>\n",
        "    Colocar um espaço após vírgulas, operadores e ao redor de atribuições.\n",
        "    </li>\n",
        "    <li>\n",
        "    Iniciar funções e variáveis com nomes claros e descritivos.\n",
        "    </li>\n",
        "</ul>\n",
        "<p>Essas diretrizes tornam o código mais legível e organizado.</p>\n",
        "\n",
        "<br>\n",
        "\n",
        "<h3>Em resulmo...</h3>\n",
        "\n",
        "<p>Usar snake_case tanto as variáveis quando as funções/métodos e CamelCase para as classes.</p>\n",
        "<br>\n",
        "<p>* snake_case</p>\n",
        "<p>CamelCase</p>"
      ],
      "metadata": {
        "id": "mPA0q6CrioHY"
      }
    },
    {
      "cell_type": "markdown",
      "source": [
        "<hr>\n",
        "<h1># ATENÇÃO!!! - Se não estiver usando o colab, ensinar préviamente a função de saida de dados : Print()</h1>"
      ],
      "metadata": {
        "id": "wmKNdsLptHmH"
      }
    },
    {
      "cell_type": "code",
      "source": [
        "print(\"Hello world!\")"
      ],
      "metadata": {
        "id": "2xNZ55rVy7zh"
      },
      "execution_count": null,
      "outputs": []
    },
    {
      "cell_type": "markdown",
      "source": [
        "<hr>\n",
        "<hr>\n",
        "<hr>\n",
        "<hr>\n",
        "<hr>\n",
        "<br>\n",
        "\n",
        "<h1><b>2. Tipos de Dados</b></h1>\n",
        "\n",
        "<p>Tipos de dados são categorias que definem o tipo de valor que uma variável pode armazenar em um programa de computador. Em Python, existem diferentes tipos de dados básicos, como:</p>\n",
        "\n",
        "<br>\n",
        "<ul>\n",
        "<li>\n",
        "inteiros (números inteiros) : Representa números inteiros, positivos ou negativos\n",
        "</li>\n",
        "<li>\n",
        "floats (números decimais) : Representa números reais (com casas decimais).\n",
        "</li>\n",
        "<li>\n",
        "strings (sequências de texto) : Representa uma sequência de caracteres.\n",
        "</li>\n",
        "<li>\n",
        "booleanos (verdadeiro ou falso)\n",
        "</li>\n",
        "<li>\n",
        "listas (coleções de elementos) : Representa uma coleção ordenada e mutável de elementos (pode conter diferentes tipos de dados).\n",
        "</li>\n",
        "<li>\n",
        "tuple (tupla): Representa uma coleção ordenada, mas imutável de elementos.\n",
        "</li>\n",
        "<li>\n",
        "NoneType (None): Representa a ausência de valor ou um valor nulo\n",
        "</li>\n",
        "\n",
        "</ul>\n",
        "<br>\n",
        "\n",
        "\n",
        "<p>Cada tipo de dado possui características específicas e operações que podem ser realizadas sobre ele. Compreender os tipos de dados é fundamental para manipular informações de forma correta e eficiente em qualquer programa.</p>\n",
        "\n",
        "<br>\n",
        "<h3>Exemplos:</h3>\n",
        "\n",
        "<p>Numero inteiros => INT => 10 </p>\n",
        "<p>Numero decimal => FLOAT => 10.4539 </p>\n",
        "<p>Texto => STRING => \"Seu nome\" => (Uso de Aspas simples ou duplas)</p>\n",
        "<p>BOOLEANO => BOOL => False or True </p>\n",
        "<p>Lista => LIST => [ 1, 2, 3, 4 ]</p>\n",
        "<p>Tupla => TUPLE => ( 1, 2, 3, 4 )</p>\n",
        "<p>Nulo => None => None</p>"
      ],
      "metadata": {
        "id": "w5JeI9VGd0gm"
      }
    },
    {
      "cell_type": "code",
      "source": [
        "type(10)"
      ],
      "metadata": {
        "id": "FhM2o8yFfH60"
      },
      "execution_count": null,
      "outputs": []
    },
    {
      "cell_type": "code",
      "source": [
        "type(10.453)"
      ],
      "metadata": {
        "id": "tpXGc5e1fHmJ"
      },
      "execution_count": null,
      "outputs": []
    },
    {
      "cell_type": "code",
      "source": [
        "type(\"Seu nome\")"
      ],
      "metadata": {
        "id": "hDodkp83fHRy"
      },
      "execution_count": null,
      "outputs": []
    },
    {
      "cell_type": "code",
      "source": [
        "type(False)"
      ],
      "metadata": {
        "id": "BsWKV4wDfK2Z"
      },
      "execution_count": null,
      "outputs": []
    },
    {
      "cell_type": "code",
      "source": [
        "type([1, 2, 3, 4])"
      ],
      "metadata": {
        "id": "wRskc-pGsl_4"
      },
      "execution_count": null,
      "outputs": []
    },
    {
      "cell_type": "code",
      "source": [
        "type((1, 2, 3, 4))"
      ],
      "metadata": {
        "id": "n_-x2eJ1t6MB"
      },
      "execution_count": null,
      "outputs": []
    },
    {
      "cell_type": "code",
      "source": [
        "type(None)"
      ],
      "metadata": {
        "id": "U78CZxmguFho"
      },
      "execution_count": null,
      "outputs": []
    },
    {
      "cell_type": "markdown",
      "source": [
        "<hr>\n",
        "<hr>\n",
        "<hr>\n",
        "<hr>\n",
        "<hr>\n",
        "<br>\n",
        "\n",
        "<h1><b>3. Variaveis</b></h1>\n",
        "\n",
        "<p>Uma variável é um espaço de armazenamento na memória do computador que guarda um valor, como números, texto ou outros tipos de dados, e pode ser alterado durante a execução de um programa.</p>\n",
        "\n",
        "<p>Ela é identificada por um nome, que o programador escolhe, e pode ser usada para representar informações que podem mudar ao longo do tempo.</p>\n",
        "\n",
        "<p>Em Python, as variáveis não precisam ser declaradas com um tipo específico, permitindo uma maior flexibilidade ao programar. O uso correto de variáveis é essencial para a criação de programas eficientes e dinâmicos.</p>\n",
        "\n",
        "<br>\n",
        "\n",
        "<h3>Exemplos:</h3>\n",
        "\n",
        "<p>No seu computador tem um componente chamado memoria RAM, onde armazena vários dados temporariamente. Imagine que essa memoria RAM fosse um armário com varias gavetas, escolhemos uma gaveta e guardamos uma informação com um nome, por exemplo (“João”), e essa gaveta terá essa informação lá dentro</p>\n",
        "\n",
        "```\n",
        "                                __\n",
        "    \"João\"                      ||\n",
        "      |                        /  \\\n",
        "      >                       /    \\\n",
        "    __________________________\\____/__________________________\n",
        "    |           |  |           |  |           |  |           |\n",
        "    |     O     |  |     O     |  |     O     |  |     O     |\n",
        "    |___________|  |___________|  |___________|  |___________|\n",
        "    _____________  _____________  _____________  _____________\n",
        "    |           |  |           |  |           |  |           |\n",
        "    |     O     |  |     O     |  |     O     |  |     O     |\n",
        "    |___________|  |___________|  |___________|  |___________|\n",
        "    _____________  _____________  _____________  _____________\n",
        "    |           |  |           |  |           |  |           |\n",
        "    |     O     |  |     O     |  |     O     |  |     O     |\n",
        "    |___________|  |___________|  |___________|  |___________|\n",
        "\n",
        "\n",
        "```\n",
        "\n",
        "<p>Porem tem muitas outras gaveta ao redor desse e precisamos identificá-la. Podemos, de repente, dar um nome para essa gaveta, para sabermos qual gaveta está o nosso nome.</p>\n",
        "\n",
        "<p>Supondo que damos o nome dessa gaveta de “meu_nome”, logo toda vez que chegarmos próximo a esse armário e irmos até a gaveta “meu_nome\", eu terei acesso ao nome “João”.  </p>\n",
        "\n",
        "```\n",
        "                                __\n",
        "    \"João\"                      ||\n",
        "      |                        /  \\\n",
        "      >                       /    \\\n",
        "    __________________________\\____/__________________________\n",
        "    |           |  |           |  |           |  |           |\n",
        "    |  meu_nome |  |     O     |  |     O     |  |     O     |\n",
        "    |___________|  |___________|  |___________|  |___________|\n",
        "    _____________  _____________  _____________  _____________\n",
        "    |           |  |           |  |           |  |           |\n",
        "    |     O     |  |     O     |  |     O     |  |     O     |\n",
        "    |___________|  |___________|  |___________|  |___________|\n",
        "    _____________  _____________  _____________  _____________\n",
        "    |           |  |           |  |           |  |           |\n",
        "    |     O     |  |     O     |  |     O     |  |     O     |\n",
        "    |___________|  |___________|  |___________|  |___________|\n",
        "\n",
        "\n",
        "```\n",
        "\n",
        "\n",
        "<br>\n",
        "<h2>Como Definir um variavel?</h2>\n",
        "<p>Para definir um variável, basta definir um nome e um valor, utilizando o operador de atribuição (=). Exemplo:</p>\n",
        "\n",
        "<p>definir_nome = valor</p>\n",
        "\n",
        "\n",
        "\n"
      ],
      "metadata": {
        "id": "B70dDZnXgkn3"
      }
    },
    {
      "cell_type": "code",
      "source": [
        "numero_telefone = '(19) 9 9898-9898'"
      ],
      "metadata": {
        "id": "JXrOqOhMhX3e"
      },
      "execution_count": null,
      "outputs": []
    },
    {
      "cell_type": "code",
      "source": [
        "numero_telefone"
      ],
      "metadata": {
        "id": "XhCI0wZphkIc"
      },
      "execution_count": null,
      "outputs": []
    },
    {
      "cell_type": "code",
      "source": [
        "type(numero_telefone)"
      ],
      "metadata": {
        "id": "2qtQd9a4xecg"
      },
      "execution_count": null,
      "outputs": []
    },
    {
      "cell_type": "markdown",
      "source": [
        "<h1>Alterar o valor da Variavel</h1>\n",
        "<p>Para alterar o valor de uma variável, basta atribuir um novo valor a ela usando o operador de atribuição (=). Por exemplo:</p>"
      ],
      "metadata": {
        "id": "z5TvNz8erx7U"
      }
    },
    {
      "cell_type": "code",
      "source": [
        "numero_telefone = \"(11) 3535-3535\""
      ],
      "metadata": {
        "id": "w9y92qwIr906"
      },
      "execution_count": null,
      "outputs": []
    },
    {
      "cell_type": "code",
      "source": [
        "numero_telefone"
      ],
      "metadata": {
        "id": "coNuw9UCsFby"
      },
      "execution_count": null,
      "outputs": []
    },
    {
      "cell_type": "markdown",
      "source": [
        "<hr>\n",
        "<hr>\n",
        "<hr>\n",
        "<hr>\n",
        "<hr>\n",
        "<br>\n",
        "\n",
        "<h1><b>4. Comentário</b></h1>\n",
        "\n",
        "<p>Em Python, para comentar uma linha de código, basta usar o símbolo <b>#</b>. Tudo o que vem após <b>#</b> na mesma linha será ignorado pelo Python.</p>\n"
      ],
      "metadata": {
        "id": "CJcHRleB8Hmc"
      }
    },
    {
      "cell_type": "code",
      "source": [
        "# Isso é um comentário\n",
        "\n",
        "x = 10  # Atribuição de valor à variável x\n",
        "\n",
        "print(x) # mostrar a informação"
      ],
      "metadata": {
        "id": "_4H9OUrW82oT"
      },
      "execution_count": null,
      "outputs": []
    },
    {
      "cell_type": "markdown",
      "source": [
        "<hr>\n",
        "<hr>\n",
        "<hr>\n",
        "<hr>\n",
        "<hr>\n",
        "<br>\n",
        "\n",
        "<h1><b>5. Funções de entrada e saída de dados: (input e print)</b></h1>\n",
        "\n",
        "<p>Funções de entrada e saída de dados são métodos usados para interagir com o usuário ou com o sistema.</p>\n",
        "\n",
        "<p>A função de entrada (input()) é utilizada para capturar informações fornecidas pelo usuário, permitindo que o programa leia dados.</p>\n",
        "<p>Já a função de saída (print()) serve para exibir informações na tela, permitindo que o programa forneça resultados ou mensagens ao usuário.</p>\n",
        "<p>Essas funções são essenciais para a interação do programa com o mundo externo, seja para obter dados ou apresentar resultados.</p>"
      ],
      "metadata": {
        "id": "KsuK6nX90Ctl"
      }
    },
    {
      "cell_type": "markdown",
      "source": [
        "<h2>Como usar a função print()?</h2>\n"
      ],
      "metadata": {
        "id": "v8G84W9h2vGe"
      }
    },
    {
      "cell_type": "code",
      "source": [
        "print(\"Bem vindo a aula de Python!\")\n",
        "print(\"Vamos aprender muito hoje!\")"
      ],
      "metadata": {
        "id": "d2vU7FK-pqXA"
      },
      "execution_count": null,
      "outputs": []
    },
    {
      "cell_type": "code",
      "source": [
        "txt = \"Bom Dia!\"\n",
        "\n",
        "print(txt)"
      ],
      "metadata": {
        "id": "4SASVDlFq0xx"
      },
      "execution_count": null,
      "outputs": []
    },
    {
      "cell_type": "markdown",
      "source": [
        "<hr>\n",
        "<h2>Como usar a função input()?</h2>"
      ],
      "metadata": {
        "id": "FwrOekaS58l3"
      }
    },
    {
      "cell_type": "code",
      "source": [
        "nome = input(\"Qual é o seu nome? \")\n",
        "\n",
        "print(nome)"
      ],
      "metadata": {
        "id": "xPFd1xhX4Bok"
      },
      "execution_count": null,
      "outputs": []
    },
    {
      "cell_type": "markdown",
      "source": [
        "<p>PS: A função input por padrão, sempre retornara uma string (texto). </p>"
      ],
      "metadata": {
        "id": "Z5ni9zVi9mNA"
      }
    },
    {
      "cell_type": "code",
      "source": [
        "type(nome)"
      ],
      "metadata": {
        "id": "o5tbFLxm4kte"
      },
      "execution_count": null,
      "outputs": []
    },
    {
      "cell_type": "code",
      "source": [
        "num = input()  # insira um numero\n",
        "print(type(num)) # mesmo digitando um numero o tipo de dados será String (str)"
      ],
      "metadata": {
        "id": "KcXuKXuvzKUk"
      },
      "execution_count": null,
      "outputs": []
    },
    {
      "cell_type": "markdown",
      "source": [
        "<h3>Nesse caso, podemos converter os dado para outros tipos, usando as <b>funções de conversão</b>. As mais comuns são:</h3>\n",
        "<ul>\n",
        "<li>int( )</li>\n",
        "<li>float( )</li>\n",
        "<li>str( )</li>\n",
        "<li>bool( )</li>\n",
        "</ul>\n",
        "\n",
        "<p>PS: Alguns dados não poderam ser convertidos.</p>"
      ],
      "metadata": {
        "id": "1eEgky4A7y0p"
      }
    },
    {
      "cell_type": "code",
      "source": [
        "txt = \"123\" #tipo string\n",
        "print(type(txt))\n",
        "\n",
        "num = int(txt) #converter para inteiro\n",
        "print(type(num))"
      ],
      "metadata": {
        "id": "97k0hVkB8zbw"
      },
      "execution_count": null,
      "outputs": []
    },
    {
      "cell_type": "code",
      "source": [
        "print(bool(0))\n",
        "print(bool(1))"
      ],
      "metadata": {
        "id": "5HHGyf3F9dNn",
        "colab": {
          "base_uri": "https://localhost:8080/"
        },
        "outputId": "ae28d32a-f95b-4d5a-baf6-c3f11ac58e77"
      },
      "execution_count": null,
      "outputs": [
        {
          "output_type": "stream",
          "name": "stdout",
          "text": [
            "False\n",
            "True\n"
          ]
        }
      ]
    },
    {
      "cell_type": "markdown",
      "source": [
        "<hr>\n",
        "<hr>\n",
        "<hr>\n",
        "<hr>\n",
        "<hr>\n",
        "<br>\n",
        "\n",
        "<h1><b>6. Formatando e inserir variáveis do texto:</b></h1>\n",
        "\n",
        "<p>Em Python, existem várias maneiras de formatar texto para inserir variáveis, ajustar o layout ou modificar a apresentação das strings.</p>\n",
        "\n",
        "<br>\n",
        "<h4>Concatenar: String</h4>"
      ],
      "metadata": {
        "id": "zeKBTJqEsTJl"
      }
    },
    {
      "cell_type": "code",
      "source": [
        "# só da para concatenar se o dado for do tipo string\n",
        "num1 = \"3\"\n",
        "num2 = \"5\"\n",
        "\n",
        "print(\"Numero \" + num1 + \" e numero\" + num2)\n"
      ],
      "metadata": {
        "id": "KusifHwxxF4h"
      },
      "execution_count": null,
      "outputs": []
    },
    {
      "cell_type": "markdown",
      "source": [
        "<h4>Método .format(): (Python 2.7+ / 3.x)</h4>\n",
        "<p>o método str.format() era amplamente utilizado para formatar strings. Ele oferece mais controle sobre o posicionamento de variáveis.</p>"
      ],
      "metadata": {
        "id": "dIAaHc_M0RjS"
      }
    },
    {
      "cell_type": "code",
      "source": [
        "nome = \"Maria\"\n",
        "idade = 30\n",
        "\n",
        "# onde estiver as chaves \"{}\" será adicionado o valor da variavel\n",
        "texto = \"Meu nome é {} e tenho {} anos.\".format(nome, idade)\n",
        "print(texto)"
      ],
      "metadata": {
        "id": "vem0Vct62EeM"
      },
      "execution_count": null,
      "outputs": []
    },
    {
      "cell_type": "markdown",
      "source": [
        "<h4>F-strings: (a partir do Python 3.6)</h4>\n",
        "<p>O ( f ) antes da string no print() indica que é uma f-string (string formatada), que permite incorporar variáveis diretamente na string. As variáveis são colocadas entre chaves {} e seus valores são automaticamente inseridos na string. No exemplo:</p>"
      ],
      "metadata": {
        "id": "-04jErkS3zFl"
      }
    },
    {
      "cell_type": "code",
      "source": [
        "nome = \"Joãozinho\"\n",
        "anos = 13\n",
        "\n",
        "print(f\"O {nome} tem {anos} anos de idade!\")\n",
        "\n",
        "msg = f\"O {nome} tem {anos} anos de idade!\"\n",
        "\n",
        "print(msg)"
      ],
      "metadata": {
        "id": "iFNjPRHCsSZ7"
      },
      "execution_count": null,
      "outputs": []
    },
    {
      "cell_type": "markdown",
      "source": [
        "<p>Strings de Multilinhas (f-strings ou \" \" \"/' ' ')</p>"
      ],
      "metadata": {
        "id": "T5T75lTCqLaD"
      }
    },
    {
      "cell_type": "code",
      "source": [
        "texto = \"\"\"Este é um texto\n",
        "que ocupa várias linhas\n",
        "no código.\"\"\"\n",
        "print(texto)"
      ],
      "metadata": {
        "id": "W_QF3RUFqJwW"
      },
      "execution_count": null,
      "outputs": []
    },
    {
      "cell_type": "code",
      "source": [
        "nome = \"Carlos\"\n",
        "idade = 30\n",
        "texto = f\"\"\"\n",
        "Olá, meu nome é {nome}\n",
        "e tenho {idade} anos.\n",
        "\"\"\"\n",
        "print(texto)"
      ],
      "metadata": {
        "id": "-3l49J_rqlBY"
      },
      "execution_count": null,
      "outputs": []
    },
    {
      "cell_type": "markdown",
      "source": [
        "<p>F-strings também permitem formatação avançada:</p>"
      ],
      "metadata": {
        "id": "lWMEMN282gRD"
      }
    },
    {
      "cell_type": "code",
      "source": [
        "txt = \"texto\"\n",
        "\n",
        "# Tamanho do espaço do texto\n",
        "print('-'*20)\n",
        "\n",
        "# Alinhamento à direita\n",
        "print(f\"{txt:>20}\")  # no espaço de 20, o texto será alinado à direita\n",
        "\n",
        "# Alinhamento à esquerda\n",
        "print(f\"{txt:<20}\") # no espaço de 20, o texto será alinado à esquerda\n",
        "\n",
        "# Alinhamento ao centro\n",
        "print(f\"{txt:^20}\") # no espaço de 20, o texto será alinado ao centro\n"
      ],
      "metadata": {
        "id": "vpz9vVTU20Vy"
      },
      "execution_count": null,
      "outputs": []
    },
    {
      "cell_type": "code",
      "source": [
        "# Alinhamento e largura de campos\n",
        "nome = \"João\"\n",
        "idade = 25\n",
        "\n",
        "print(\"-\" * 16) # espaço de 16 / -  10 + \"3 (espaço + | + espaço)\" + 3\n",
        "\n",
        "print(f\"{nome:<10} | {idade:>3}\")"
      ],
      "metadata": {
        "id": "SHWuvh3Z2seg"
      },
      "execution_count": null,
      "outputs": []
    },
    {
      "cell_type": "markdown",
      "source": [
        "<h4>Formatação de Números</h4>\n",
        "<p>Para formatação de números, como exibir uma quantidade com separador de milhares ou controlar a quantidade de casas decimais</p>"
      ],
      "metadata": {
        "id": "uu1D7mJEFi1w"
      }
    },
    {
      "cell_type": "code",
      "source": [
        "numero1 = 10\n",
        "numero2 = 9\n",
        "result = numero1 / numero2\n",
        "\n",
        "print(result) # Mostra o resultado com todas a casas decimais\n",
        "\n",
        "print(f\"{result:.2f}\")  # Mostra com 2 casas decimais"
      ],
      "metadata": {
        "id": "fz9gQHMT2zKp"
      },
      "execution_count": null,
      "outputs": []
    },
    {
      "cell_type": "markdown",
      "source": [
        "<h4>Outras formatações:</h4>\n",
        "\n",
        "<ul>\n",
        "<li>\n",
        "<b>upper():</b>\n",
        "<p> Converte todos os caracteres da string para maiúsculas.</p>\n",
        "</li>\n",
        "<li>\n",
        "<b>lower():</b>\n",
        "<p> Converte todos os caracteres da string para minúsculas.</p>\n",
        "</li>\n",
        "<li>\n",
        "<b>capitalize():</b>\n",
        "<p>Converte o primeiro caractere para maiúsculo e os outros para minúsculo.</p>\n",
        "</li>\n",
        "<li>\n",
        "<b>title():</b>\n",
        "<p>Converte a primeira letra de cada palavra para maiúscula.</p>\n",
        "</li>\n",
        "<li>\n",
        "<b>strip():</b>\n",
        "<p>Remove os espaços em branco (ou outros caracteres) do início e do final da string.</p>\n",
        "</li>\n",
        "<li>\n",
        "<b>replace():</b>\n",
        "<p>Substitui uma substring por outra.</p>\n",
        "</li>\n",
        "<li>\n",
        "<b>split():</b>\n",
        "<p>Divide a string em uma lista de substrings com base em um delimitador.</p>\n",
        "</li>\n",
        "<li>\n",
        "<b>join():</b>\n",
        "<p>Junta uma lista de strings em uma única string, com um separador.</p>\n",
        "</li>\n",
        "<li>\n",
        "<b>find():</b>\n",
        "<p>Retorna o índice da primeira ocorrência de uma substring, ou -1 se não encontrado.</p>\n",
        "</li>\n",
        "<li>\n",
        "<b>count():</b>\n",
        "<p>Conta quantas vezes uma substring aparece na string.</p>\n",
        "</li>\n",
        "</ul>"
      ],
      "metadata": {
        "id": "_T4MaYfkQ2ks"
      }
    },
    {
      "cell_type": "code",
      "source": [
        "txt = \"um belo dia para aprender python!\"\n",
        "lista_txt = [\"um\", \"belo\", \"dia\", \"para\", \"aprender\", \"python!\"]\n",
        "\n",
        "# testar as outras formatações aqui!\n",
        "print(txt)\n",
        "\n"
      ],
      "metadata": {
        "id": "Ca0Jp-BRTofw"
      },
      "execution_count": null,
      "outputs": []
    },
    {
      "cell_type": "markdown",
      "source": [
        "<p>Em Python, as strings podem ser tratadas de maneira semelhante a vetores (ou listas) em alguns aspectos. Embora strings não sejam tecnicamente vetores (ou listas), elas compartilham muitas propriedades que permitem tratá-las de forma semelhante</p>"
      ],
      "metadata": {
        "id": "6dSXni5tr8Sy"
      }
    },
    {
      "cell_type": "code",
      "source": [
        "# [ 0,   1,   2,   3,   4,   5,   6,   7,   8,   9,   10,  11, 12,   13, 14,  15,  16,  17,  18]\n",
        "# ['a', ' ', 'L', 'i', 'n', 'g', 'u', 'a', 'g', 'e', 'm', ' ', 'p', 'y', 't', 'h', 'o', 'n', '!']\n",
        "\n",
        "txt = \"a Linguagem python!\"\n",
        "\n",
        "print(txt.find('python')) # Retorna o índice da primeira letra\n",
        "\n",
        "print(txt[12])"
      ],
      "metadata": {
        "id": "xYzO_8FBsIfH",
        "colab": {
          "base_uri": "https://localhost:8080/"
        },
        "outputId": "aa76380c-7a8e-47b1-d91e-a93f346c5bc6"
      },
      "execution_count": null,
      "outputs": [
        {
          "output_type": "stream",
          "name": "stdout",
          "text": [
            "12\n",
            "p\n"
          ]
        }
      ]
    },
    {
      "cell_type": "markdown",
      "source": [
        "<hr>\n",
        "<hr>\n",
        "<hr>\n",
        "<hr>\n",
        "<hr>\n",
        "<br>\n",
        "\n",
        "<h1><b>7. Operações</b></h1>\n",
        "\n",
        "<p>As operações em Python funcionam com base em operadores que permitem realizar cálculos e manipular dados. Os principais tipos de operações incluem:</p>\n",
        "<ul>\n",
        "<li>Aritméticas</li>\n",
        "<li>Atribuição</li>\n",
        "<li>Comparação</li>\n",
        "<li>Lógicas</li>\n",
        "</ul>\n",
        "<br>"
      ],
      "metadata": {
        "id": "ghIl5ahG_FrN"
      }
    },
    {
      "cell_type": "markdown",
      "source": [
        "<h2>Operações Aritméticas:</h2>"
      ],
      "metadata": {
        "id": "9zgPcoaKcWMP"
      }
    },
    {
      "cell_type": "code",
      "source": [
        "# soma\n",
        "1 + 2"
      ],
      "metadata": {
        "id": "5o026E2q_T0a"
      },
      "execution_count": null,
      "outputs": []
    },
    {
      "cell_type": "code",
      "source": [
        "# subitração\n",
        "4 - 5"
      ],
      "metadata": {
        "id": "ULrpz3a9_Wgx"
      },
      "execution_count": null,
      "outputs": []
    },
    {
      "cell_type": "code",
      "source": [
        "# multiplicação\n",
        "5 * 2"
      ],
      "metadata": {
        "id": "jahsRrry_aVx"
      },
      "execution_count": null,
      "outputs": []
    },
    {
      "cell_type": "code",
      "source": [
        "# divição\n",
        "10 / 3"
      ],
      "metadata": {
        "id": "e9fyvcfY_0aw"
      },
      "execution_count": null,
      "outputs": []
    },
    {
      "cell_type": "code",
      "source": [
        "# resto da divição\n",
        "10 % 3"
      ],
      "metadata": {
        "id": "kFhclEIK_f6R"
      },
      "execution_count": null,
      "outputs": []
    },
    {
      "cell_type": "code",
      "source": [
        "# int divição (base)\n",
        "10 // 3"
      ],
      "metadata": {
        "id": "jw01zdDE_ujh"
      },
      "execution_count": null,
      "outputs": []
    },
    {
      "cell_type": "code",
      "source": [
        "# potenciação 2³\n",
        "2 ** 3"
      ],
      "metadata": {
        "id": "-99CUGdZ_jV5"
      },
      "execution_count": null,
      "outputs": []
    },
    {
      "cell_type": "markdown",
      "source": [
        "<hr>\n",
        "<h2>Operações Atribuição:</h2>\n",
        "\n",
        "<p>Em Python, uma operação de atribuição é usada para armazenar um valor em uma variável. Ela envolve o uso do operador de atribuição =, onde o valor à direita é atribuído à variável à esquerda.</p>\n",
        "\n",
        "```\n",
        "x = 5\n",
        "\n",
        "```\n",
        "\n",
        "<p>Além da forma simples de atribuição, existem outras formas mais complexas que combinam operadores com atribuição, como as operações de atribuição compostas. Aqui estão alguns exemplos:</p>\n",
        "\n",
        "<br>\n",
        "\n",
        "<h3>Atribuição simples:</h3>\n",
        "\n",
        "```\n",
        "a = 10\n",
        "\n",
        "```\n",
        "<h3>Atribuição com soma (+=):</h3>\n"
      ],
      "metadata": {
        "id": "KTEP3sD1nAqx"
      }
    },
    {
      "cell_type": "code",
      "source": [
        "a = 5\n",
        "a += 3  # Equivalente a: a = a + 3\n",
        "print(a)  # Saída: 8"
      ],
      "metadata": {
        "id": "iWEB7O0Yr0jo"
      },
      "execution_count": null,
      "outputs": []
    },
    {
      "cell_type": "markdown",
      "source": [
        "<h3>Atribuição com subtração (-=):</h3>"
      ],
      "metadata": {
        "id": "v3Us3eGysBAt"
      }
    },
    {
      "cell_type": "code",
      "source": [
        "a = 10\n",
        "a -= 4  # Equivalente a: a = a - 4\n",
        "print(a)  # Saída: 6"
      ],
      "metadata": {
        "id": "ubM5sxE2sJJO"
      },
      "execution_count": null,
      "outputs": []
    },
    {
      "cell_type": "markdown",
      "source": [
        "<h3>Atribuição com multiplicação (*=):</h3>"
      ],
      "metadata": {
        "id": "TDZwzPL0sRxg"
      }
    },
    {
      "cell_type": "code",
      "source": [
        "a = 3\n",
        "a *= 2  # Equivalente a: a = a * 2\n",
        "print(a)  # Saída: 6"
      ],
      "metadata": {
        "id": "D64lBMMosWeP"
      },
      "execution_count": null,
      "outputs": []
    },
    {
      "cell_type": "markdown",
      "source": [
        "<h3>Atribuição com divisão (/=):</h3>"
      ],
      "metadata": {
        "id": "HxjWMgwLsgK4"
      }
    },
    {
      "cell_type": "code",
      "source": [
        "a = 10\n",
        "a /= 2  # Equivalente a: a = a / 2\n",
        "print(a)  # Saída: 5.0"
      ],
      "metadata": {
        "id": "ze1K3GX_seIe"
      },
      "execution_count": null,
      "outputs": []
    },
    {
      "cell_type": "markdown",
      "source": [
        "<h3>Atribuição com exponenciação (=)**:</h3>"
      ],
      "metadata": {
        "id": "X4q0YnRSszyg"
      }
    },
    {
      "cell_type": "code",
      "source": [
        "a = 2\n",
        "a **= 3  # Equivalente a: a = a ** 3\n",
        "print(a)  # Saída: 8"
      ],
      "metadata": {
        "id": "rUSgnoc2s5Gj"
      },
      "execution_count": null,
      "outputs": []
    },
    {
      "cell_type": "markdown",
      "source": [
        "<hr>\n",
        "\n",
        "<h2>Operações Comparação (\"Condicional\")</h2>\n",
        "\n",
        "<p>Resulta no Verdadeiro ou Falso.</p>\n"
      ],
      "metadata": {
        "id": "TNQ35NlPj09M"
      }
    },
    {
      "cell_type": "markdown",
      "source": [
        "<h1>Igualdade -> ( == )</h1>"
      ],
      "metadata": {
        "id": "HdZJtPUTlAhh"
      }
    },
    {
      "cell_type": "code",
      "source": [
        "x = 10 # isso não é comparação e sim atribuição"
      ],
      "metadata": {
        "id": "0eaZV-0ekvit"
      },
      "execution_count": null,
      "outputs": []
    },
    {
      "cell_type": "code",
      "source": [
        "x == 10"
      ],
      "metadata": {
        "id": "zbM26utck1_C"
      },
      "execution_count": null,
      "outputs": []
    },
    {
      "cell_type": "markdown",
      "source": [
        "<h1>Diferença -> ( != )</h1>"
      ],
      "metadata": {
        "id": "iQxw8x-Hoqwk"
      }
    },
    {
      "cell_type": "code",
      "source": [
        "x != 9"
      ],
      "metadata": {
        "id": "gkIVk3uzo3WR"
      },
      "execution_count": null,
      "outputs": []
    },
    {
      "cell_type": "markdown",
      "source": [
        "<h1>Maior e menos -> ( < ou > )</h1>"
      ],
      "metadata": {
        "id": "grwXYmTuvzl9"
      }
    },
    {
      "cell_type": "code",
      "source": [
        "10 > 20"
      ],
      "metadata": {
        "id": "E7P40iD1v-up"
      },
      "execution_count": null,
      "outputs": []
    },
    {
      "cell_type": "code",
      "source": [
        "10 < 20"
      ],
      "metadata": {
        "id": "FDwdlp_IwBW5"
      },
      "execution_count": null,
      "outputs": []
    },
    {
      "cell_type": "code",
      "source": [
        "20 > 20"
      ],
      "metadata": {
        "id": "akkKoY54wrYJ"
      },
      "execution_count": null,
      "outputs": []
    },
    {
      "cell_type": "markdown",
      "source": [
        "<h1>Maior igual e menos igual -> ( <= ou >= )</h1>\n"
      ],
      "metadata": {
        "id": "V4e_lSMlwNnY"
      }
    },
    {
      "cell_type": "code",
      "source": [
        "20 >= 20"
      ],
      "metadata": {
        "id": "0bc6Tsgvwixh"
      },
      "execution_count": null,
      "outputs": []
    },
    {
      "cell_type": "markdown",
      "source": [
        "<hr>\n",
        "<h2>Operações de Lógicas:</h2>\n",
        "\n",
        "<h2> 'E' => ( and )</h2>\n",
        "\n",
        "<p>Só é verdade quando todos as outros forem verdade </p>\n",
        "<p>|V|V| = V</p>\n",
        "<p>|V|F| = F</p>\n",
        "<p>|F|V| = F</p>\n",
        "<p>|F|F| = F</p>\n"
      ],
      "metadata": {
        "id": "mn5VztdylkNR"
      }
    },
    {
      "cell_type": "code",
      "source": [
        "True and True"
      ],
      "metadata": {
        "id": "w8BgCsP6mgaj"
      },
      "execution_count": null,
      "outputs": []
    },
    {
      "cell_type": "code",
      "source": [
        "True and False"
      ],
      "metadata": {
        "id": "sVPCXdEkmoET"
      },
      "execution_count": null,
      "outputs": []
    },
    {
      "cell_type": "code",
      "source": [
        "#Exemplo\n",
        "# para maria ter as aulas de python, ela tem que estar matriculada, e poder vir presencialmente as aulas\n",
        "\n",
        "maria_esta_matriculada_no_curso_python = True\n",
        "maria_tem_como_vir_presencialmente = False\n",
        "\n",
        "print(maria_esta_matriculada_no_curso_python and maria_tem_como_vir_presencialmente)\n",
        "\n",
        "# se False, a maria não podera ter as aulas\n",
        "# se True, a maria poderá ter as aulas"
      ],
      "metadata": {
        "id": "UllZYRWSyuh1"
      },
      "execution_count": null,
      "outputs": []
    },
    {
      "cell_type": "markdown",
      "source": [
        "<hr>\n",
        "<h1> 'OU' => ( or )</h1>\n",
        "\n",
        "<p>Basta um ser Verdade </p>\n",
        "<p>|V|V| = V</p>\n",
        "<p>|V|F| = V</p>\n",
        "<p>|F|V| = V</p>\n",
        "<p>|F|F| = F</p>"
      ],
      "metadata": {
        "id": "VwbYEEUOm3h2"
      }
    },
    {
      "cell_type": "code",
      "source": [
        "True or False"
      ],
      "metadata": {
        "id": "fsr5RuZUobjn"
      },
      "execution_count": null,
      "outputs": []
    },
    {
      "cell_type": "code",
      "source": [
        "False or False"
      ],
      "metadata": {
        "id": "LF-8g-CnohD7"
      },
      "execution_count": null,
      "outputs": []
    },
    {
      "cell_type": "code",
      "source": [
        "#Exemplo\n",
        "# para maria ter as aulas de python, ela pode vir de carro ou de onibus\n",
        "\n",
        "maria_vem_de_onibus = False\n",
        "maria_vem_de_carro= True\n",
        "\n",
        "print(maria_vem_de_onibus or maria_vem_de_carro)\n",
        "\n",
        "# se False, a maria não irá nas aulas\n",
        "# se True, a maria poderá ter as aulas"
      ],
      "metadata": {
        "colab": {
          "base_uri": "https://localhost:8080/"
        },
        "id": "1t6IT_re8Al6",
        "outputId": "3e8eef08-81ca-458a-cd13-f07451d19e01"
      },
      "execution_count": null,
      "outputs": [
        {
          "output_type": "stream",
          "name": "stdout",
          "text": [
            "False\n"
          ]
        }
      ]
    },
    {
      "cell_type": "markdown",
      "source": [
        "<hr>\n",
        "<h1> 'Negar' => ( not )</h1>\n",
        "\n",
        "<p>Inverte o valor</p>\n",
        "<p>|V| = F</p>\n",
        "<p>|F| = V</p>\n",
        "\n",
        "\n"
      ],
      "metadata": {
        "id": "yikFblPeM5SI"
      }
    },
    {
      "cell_type": "code",
      "source": [
        "joao_ganha_mesada = True\n",
        "\n",
        "print(not joao_ganha_mesada)"
      ],
      "metadata": {
        "id": "PppPR3wHOfVb"
      },
      "execution_count": null,
      "outputs": []
    },
    {
      "cell_type": "markdown",
      "source": [
        "<hr>\n",
        "<hr>\n",
        "<hr>\n",
        "<hr>\n",
        "<hr>\n",
        "<br>\n",
        "\n",
        "<h1><b>8. Estruturas Condicionais</b></h1>\n",
        "\n",
        "<p>Estrutura condicional é usada para executar <b>diferentes blocos de código </b> dependendo de uma condição. Se a condição for verdadeira, o bloco de código do <b>if</b> é executado; se for falsa, o bloco do <b>else</b> é executado. Exemplo: </p>"
      ],
      "metadata": {
        "id": "nx5BExustU-0"
      }
    },
    {
      "cell_type": "markdown",
      "source": [
        "<h2>\"Estruturas Condicionais (if - else)</h2>\n",
        "\n",
        "<h3>Traduzido para</h3>\n",
        "<p>if = \"Se\"</p>\n",
        "<p> else = \"Caso contrário\"</p>\n",
        "\n",
        "\n",
        "\n",
        "```\n",
        "if condição:\n",
        "    # Bloco de código executado se a condição for verdadeira\n",
        "    # Instruções aqui\n",
        "\n",
        "else:\n",
        "    # Bloco de código executado se a condição for falsa\n",
        "    # Instruções aqui\n",
        "```\n",
        "\n"
      ],
      "metadata": {
        "id": "veZOK3WsuCZC"
      }
    },
    {
      "cell_type": "code",
      "source": [
        "#Exemplo\n",
        "# para maria ter as aulas de python, ela tem que estar matriculada, e poder vir presencialmente as aulas\n",
        "\n",
        "maria_esta_matriculada_no_curso_python = True\n",
        "maria_tem_como_vir_presencialmente = False\n",
        "\n",
        "if maria_esta_matriculada_no_curso_python and maria_tem_como_vir_presencialmente:\n",
        "    print(\"Maria pode ter as aulas\")\n",
        "else:\n",
        "    print(\"Maria não pode ter as aulas\")\n",
        "\n",
        "# se False, a maria não podera ter as aulas\n",
        "# se True, a maria poderá ter as aulas"
      ],
      "metadata": {
        "id": "3gAbysTg9NFR"
      },
      "execution_count": null,
      "outputs": []
    },
    {
      "cell_type": "code",
      "source": [
        "joao_ganha_mesada = True\n",
        "\n",
        "# se o joão \"não\" ganha mesada\n",
        "if not joao_ganha_mesada:\n",
        "    print(\"Coitado do João!\")\n",
        "    print(\"Ele não tem mesada!\")\n",
        "\n",
        "else:\n",
        "    print(\"Bora comprar sorvere!\")"
      ],
      "metadata": {
        "id": "-w2FZAKlP96v",
        "colab": {
          "base_uri": "https://localhost:8080/"
        },
        "outputId": "050035d2-422b-474b-afb5-1239e639bcf7"
      },
      "execution_count": null,
      "outputs": [
        {
          "output_type": "stream",
          "name": "stdout",
          "text": [
            "Bora comprar sorvere!\n"
          ]
        }
      ]
    },
    {
      "cell_type": "code",
      "source": [
        "# variável \"anos\" que recebe um valor numérico\n",
        "anos = 15\n",
        "\n",
        "\n",
        "# agora vamos checar se a condição é verdadeira\n",
        "# anos ( 15 ) é menor ou igual a 17?\n",
        "if anos <= 17:\n",
        "\n",
        "    # se sim\n",
        "    print(\"Ele é muito novo!\")\n",
        "\n",
        "else:\n",
        "    # se não\n",
        "    print(\"Ele é de Maior!\")"
      ],
      "metadata": {
        "id": "-MsdA-e9vKBM"
      },
      "execution_count": null,
      "outputs": []
    },
    {
      "cell_type": "markdown",
      "source": [
        "<h2>É muito importante se atentar a indentação da estrutura:</h2>\n",
        "<p>Se não estiver indentado ele não estará dentro do bloco de execução.</p>\n",
        "<h3>------> = Tab</h3>\n",
        "<br>\n",
        "\n",
        "```\n",
        "if (condição) :\n",
        "\n",
        "#------> codigo\n",
        "```\n",
        "\n"
      ],
      "metadata": {
        "id": "iRe4carl0dAm"
      }
    },
    {
      "cell_type": "code",
      "source": [
        "maria_tem_um_cachorro = False\n",
        "\n",
        "\n",
        "# sem indentação não funciona\n",
        "if maria_tem_um_cachorro:\n",
        "    pass\n",
        "\n",
        "# ----->\n",
        "print(\"maria tem um cachorro fofinho!\")"
      ],
      "metadata": {
        "id": "f-hjceTMTEfN"
      },
      "execution_count": null,
      "outputs": []
    },
    {
      "cell_type": "markdown",
      "source": [
        "\n",
        "<h2>Estrutura condicional com elif (else if)</h2>\n",
        "\n",
        "<p>Se você precisar verificar múltiplas condições, pode usar o <b>elif (abreviação de \"else if\")</b> para testar outras expressões entre o if e o else. A sintaxe fica assim:</p>\n",
        "\n",
        "```\n",
        "if condição1:\n",
        "    # Bloco de código executado se condição1 for verdadeira\n",
        "elif condição2:\n",
        "    # Bloco de código executado se condição1 for falsa e condição2 for verdadeira\n",
        "else:\n",
        "    # Bloco de código executado se nenhuma das condições anteriores for verdadeira\n",
        "\n",
        "```\n"
      ],
      "metadata": {
        "id": "DMbaDLHtyDpC"
      }
    },
    {
      "cell_type": "code",
      "source": [
        "idade_usuario = 18\n",
        "\n",
        "if idade_usuario <= 10:\n",
        "    print(\"crianca\")\n",
        "\n",
        "elif idade_usuario < 18:\n",
        "    print(\"adolescente\")\n",
        "\n",
        "elif idade_usuario < 60:\n",
        "    print(\"adulto\")\n",
        "\n",
        "else:\n",
        "    print(\"idoso\")"
      ],
      "metadata": {
        "id": "amIPROB-yCXD"
      },
      "execution_count": null,
      "outputs": []
    },
    {
      "cell_type": "markdown",
      "source": [
        "<hr>\n",
        "<hr>\n",
        "<hr>\n",
        "<hr>\n",
        "<hr>\n",
        "\n",
        "<br>\n",
        "\n",
        "<h2><b>Revisão:</b></h2>\n",
        "<h2>Tudo que já foi ensinado:</h2>\n",
        "\n",
        "<h3>Tipos de Dados:</h3>\n",
        "<ul>\n",
        "<li>int</li>\n",
        "<li>float</li>\n",
        "<li>str</li>\n",
        "<li>bool</li>\n",
        "</ul>\n",
        "\n",
        "<h3>Operações:</h3>\n",
        "<ul>\n",
        "<li>+</li>\n",
        "<li>-</li>\n",
        "<li>*</li>\n",
        "<li>/</li>\n",
        "</ul>\n",
        "\n",
        "<h3>Condicional:</h3>\n",
        "<ul>\n",
        "<li>==</li>\n",
        "<li>!=</li>\n",
        "<li>></li>\n",
        "<li>>=</li>\n",
        "<li><</li>\n",
        "<li><=</li>\n",
        "<li>and</li>\n",
        "<li>or</li>\n",
        "</ul>\n",
        "\n",
        "<h3>Estruturas Condicionais:</h3>\n",
        "<ul>\n",
        "<li>if</li>\n",
        "<li>elif</li>\n",
        "<li>else</li>\n",
        "</ul>\n",
        "\n",
        "\n",
        "\n"
      ],
      "metadata": {
        "id": "QD158yrzW3GR"
      }
    },
    {
      "cell_type": "markdown",
      "source": [
        "<hr>\n",
        "<h1># Exercicios: Hora de programar:</h1>\n",
        "\n",
        "<p><b>Mãos a Obra!</b><p>"
      ],
      "metadata": {
        "id": "QxQa1oZQcRlK"
      }
    },
    {
      "cell_type": "markdown",
      "source": [
        "<h2> 1) Desenvolver um programa que pede a sua idade e diz se voçê é \"crianca\", \"adolescente\", \"adulto\" ou \"idoso\".</h2>\n",
        "\n",
        "<ul>\n",
        "<li>\n",
        "Menor igual a 10: Criança\n",
        "</li>\n",
        "<li>\n",
        "Entre 11 até 17: Adolencente\n",
        "</li>\n",
        "<li>\n",
        "Entre 18 até 59: Adulto\n",
        "</li>\n",
        "<li>\n",
        "60 para Acima: Idoso\n",
        "</li>\n",
        "</ul>"
      ],
      "metadata": {
        "id": "L9hXth3Pb6aP"
      }
    },
    {
      "cell_type": "code",
      "source": [
        "idade = int(input('Digite sua idade: '))\n",
        "\n",
        "if idade <= 10:\n",
        "    print(\"Criança\")\n",
        "\n",
        "elif idade < 18:\n",
        "    print(\"Adolencente\")\n",
        "\n",
        "elif idade < 60:\n",
        "    print(\"Adulto\")\n",
        "\n",
        "else:\n",
        "    print(\"Idoso\")"
      ],
      "metadata": {
        "id": "4E1j7c-94RRD"
      },
      "execution_count": null,
      "outputs": []
    },
    {
      "cell_type": "markdown",
      "source": [
        "<h2> 2) Desenvolver um programa de Login que verifica o login e senha do usuario, e mosta uma mensagem de boas vindas.</h2>"
      ],
      "metadata": {
        "id": "0rX4qRWGhUIW"
      }
    },
    {
      "cell_type": "code",
      "source": [
        "# isso pegaria do banco de dados\n",
        "nome_usuario = \"Eduardo Silva\"\n",
        "login_usuario = \"edu123\"\n",
        "senha_usuario = \"1234\"\n",
        "\n",
        "\n",
        "login = input(\"Informe o seu Usuario:\")\n",
        "senha = input(\"Informe a sua senha:\")\n",
        "\n",
        "if login == login_usuario and senha == senha_usuario:\n",
        "    print(f\"Bem vindo {nome_usuario}!\")\n",
        "    print(\"Você acaba de logar no nosso sistema.\")\n",
        "else:\n",
        "    print(\"Não foi possivel logar na sua conta\")\n",
        "    print(\"login ou senha incorreta!\")\n",
        "\n"
      ],
      "metadata": {
        "id": "a_uzXxyShTbw"
      },
      "execution_count": null,
      "outputs": []
    },
    {
      "cell_type": "markdown",
      "source": [
        "<h2> 3) Desenvolver um programa que calcula o indece de massa corporal (IMC).</h2>\n",
        "\n",
        "<h3><b>calculo_imc = peso / (altura * altura)</b><h3>\n",
        "\n",
        "<p>menor que 18,5 \tbaixo peso</p>\n",
        "<p>entre 18,5 e 24,9 \tintervalo normal</p>\n",
        "<p>entre 25 e 29,9 \tsobrepeso</p>\n",
        "<p>entre 30 e 34,9 \tobesidade classe I</p>\n",
        "<p>entre 35 e 39,9 \tobesidade classe II</p>\n",
        "<p>maior que 40 \tobesidade classe III</p>"
      ],
      "metadata": {
        "id": "_WJ-HmmLdU_K"
      }
    },
    {
      "cell_type": "code",
      "source": [
        "seu_peso = float(input(\"Digite seu peso: (kg)\"))\n",
        "sua_altura = float(input(\"Digite sua altura: (m)\"))\n",
        "\n",
        "imc = seu_peso / (sua_altura ** 2)\n",
        "\n",
        "print(f'Seu Imc é: {imc:.2f}')\n",
        "\n",
        "if imc < 18.5 :\n",
        "    print(\"Baixo peso\")\n",
        "\n",
        "elif imc < 25:\n",
        "    print(\"Normal\")\n",
        "\n",
        "elif imc < 30:\n",
        "    print(\"Sobrepeso\")\n",
        "\n",
        "elif imc < 35:\n",
        "    print(\"Obesidade classe I\")\n",
        "\n",
        "elif imc < 40:\n",
        "    print(\"Obesidade classe II\")\n",
        "\n",
        "else:\n",
        "    print(\"Obesidade classe III\")"
      ],
      "metadata": {
        "id": "ivI_TMIWb4Da"
      },
      "execution_count": null,
      "outputs": []
    },
    {
      "cell_type": "markdown",
      "source": [
        "<h2> 4) Desenvolver uma calculadora simples, forneça 2 numero e um operador, e mostra o resultado. </h2>"
      ],
      "metadata": {
        "id": "fNVC3X8mhL__"
      }
    },
    {
      "cell_type": "code",
      "source": [
        "num1 = float(input(\"Digite o primeiro número: \"))\n",
        "\n",
        "operacao = input(\"Digite a operação (+, -, *, /): \")\n",
        "\n",
        "num2 = float(input(\"Digite o segundo número: \"))\n",
        "\n",
        "if operacao == \"+\":\n",
        "    resultado = num1 + num2\n",
        "\n",
        "elif operacao == \"-\":\n",
        "    resultado = num1 - num2\n",
        "\n",
        "elif operacao == \"*\":\n",
        "    resultado = num1 * num2\n",
        "\n",
        "elif operacao == \"/\":\n",
        "    resultado = num1 / num2\n",
        "\n",
        "else:\n",
        "    resultado = \"Operação inválida\"\n",
        "\n",
        "print(\"Resultado:\", resultado)"
      ],
      "metadata": {
        "id": "clxnEeeUmeyJ"
      },
      "execution_count": null,
      "outputs": []
    },
    {
      "cell_type": "markdown",
      "source": [
        "<h2> 5) Desenvolver um programa que recebe 4 notas de prova e mostre a media. Se o aluno tiver a media maior ou igual a 5, mostrar \"Aprovado\", Se não \"Reprovado\"</h2>.\n",
        "<p>Calculo media: (nota1 + nota2 + nota3 + nota4) / quantidade de notas</p>"
      ],
      "metadata": {
        "id": "OKv_aPZunYQ7"
      }
    },
    {
      "cell_type": "code",
      "source": [
        "nota1 = float(input(\"Digite a nota 1:\"))\n",
        "nota2 = float(input(\"Digite a nota 2:\"))\n",
        "nota3 = float(input(\"Digite a nota 3:\"))\n",
        "nota4 = float(input(\"Digite a nota 4:\"))\n",
        "\n",
        "media = (nota1 + nota2 + nota3 + nota4) / 4\n",
        "\n",
        "if media < 5 :\n",
        "    print(\"O aluno foi reprovado!\")\n",
        "    print(\"Que pena...\")\n",
        "else:\n",
        "    print(\"O aluno foi aprovado!\")\n",
        "    print(\"Parabéns...\")"
      ],
      "metadata": {
        "id": "uxERceWcn7eB"
      },
      "execution_count": null,
      "outputs": []
    },
    {
      "cell_type": "markdown",
      "source": [
        "<h2> 5-2) #Desafio!!! - Com o mesmo exemplo acima, se o aluno tiver com a nota abaixo de 5, mas acima ou igual a 4 , ele pode fazer um trabalho de reculperação, e se ele tirar 7 ou mais, ele será aprovado.</h2>\n",
        "<p> Exemplo: se a media do aluno foi 4.5 ele podera fazer o  trabalho de reculperação.</p>"
      ],
      "metadata": {
        "id": "U7i6_oxfpNdk"
      }
    },
    {
      "cell_type": "code",
      "source": [
        "nota1 = float(input(\"Digite a nota 1:\"))\n",
        "nota2 = float(input(\"Digite a nota 2:\"))\n",
        "nota3 = float(input(\"Digite a nota 3:\"))\n",
        "nota4 = float(input(\"Digite a nota 4:\"))\n",
        "nota_reculperacao = 0\n",
        "\n",
        "media = (nota1 + nota2 + nota3 + nota4) / 4\n",
        "\n",
        "if media < 5 :\n",
        "    # o aluno foi mal!\n",
        "\n",
        "    if media >= 4:\n",
        "        # se ainda tem salvação\n",
        "\n",
        "        print(f\"O aluno teve a media de {media}\")\n",
        "        print(\"O aluno fará uma prova de reculperação\")\n",
        "\n",
        "        nota_reculperacao = float(input(\"Digite a nota da prova de reculperação:\"))\n",
        "\n",
        "        if nota_reculperacao < 7 :\n",
        "            print(\"O aluno foi reprovado!\")\n",
        "            print(\"Que pena...\")\n",
        "\n",
        "        else:\n",
        "            print(\"O aluno foi aprovado!\")\n",
        "            print(\"Parabéns...\")\n",
        "\n",
        "    else:\n",
        "        # deu ruim!\n",
        "        print(f\"O aluno foi reprovado com a media {media}.\")\n",
        "        print(\"Que pena...\")\n",
        "\n",
        "else:\n",
        "    # o aluno foi bem!\n",
        "    print(f\"O aluno foi aprovado com a media {media}\")\n",
        "    print(\"Parabéns...\")"
      ],
      "metadata": {
        "id": "ufnNHhsBtUmN"
      },
      "execution_count": null,
      "outputs": []
    },
    {
      "cell_type": "markdown",
      "source": [
        "<hr>\n",
        "<hr>\n",
        "<hr>\n",
        "<hr>\n",
        "<hr>\n",
        "<br>\n",
        "\n",
        "<h1><b>9. Estruturas de repetição</b></h1>\n",
        "\n",
        "<p>A Estrutura de repetição é utilizada para executar uma mesma sequência de comandos várias vezes.</p>\n",
        "\n",
        "<p>As estruturas de repetição são conhecidas também como laços (loops).</p>"
      ],
      "metadata": {
        "id": "YoSQm-lnvfdv"
      }
    },
    {
      "cell_type": "markdown",
      "source": [
        "<hr>\n",
        "<h2>Laço de repetição - While<h2>\n",
        "\n",
        "<p>O while em Python é uma estrutura de repetição que executa um <b>bloco de código</b> enquanto uma condição for <b>verdadeira</b>. Ou seja, enquanto a expressão condicional no while for avaliada como True, o código dentro do bloco do while continuará sendo executado.</p>\n",
        "\n",
        "<br>\n",
        "\n",
        "<h3>Como é o codigo?<h3>\n",
        "\n",
        "```\n",
        "while condição:\n",
        "    # Código a ser executado enquanto a condição for True\n",
        "\n",
        "```\n",
        "<br>\n",
        "<p>Enquanto a condição for verdadeira, continuará repetindo.</p>"
      ],
      "metadata": {
        "id": "bmkY41XbwSbs"
      }
    },
    {
      "cell_type": "code",
      "source": [
        "contador = 1\n",
        "quantidade_ha_repeti = 50\n",
        "\n",
        "# Enquanto isso for verdade, ele repetirá\n",
        "while contador <= quantidade_ha_repeti:\n",
        "\n",
        "    print(f\"{contador} - Eduardo\")\n",
        "\n",
        "    #variavel de controle\n",
        "    contador = contador + 1\n"
      ],
      "metadata": {
        "id": "1ZpwRhQK-0lA"
      },
      "execution_count": null,
      "outputs": []
    },
    {
      "cell_type": "code",
      "source": [
        "numero_vezes = 1\n",
        "\n",
        "\n",
        "while numero_vezes <= 10:\n",
        "\n",
        "    print(f\"Repeti {numero_vezes} vez.\")\n",
        "\n",
        "    #variavel de controle\n",
        "    numero_vezes = numero_vezes + 1\n"
      ],
      "metadata": {
        "id": "bWwsD92yxL_G"
      },
      "execution_count": null,
      "outputs": []
    },
    {
      "cell_type": "markdown",
      "source": [
        "<h3>Atenção! - Alguns Cuidados com o While:</h3>\n",
        "<p><b>Laços infinitos acidentais:</b> Se o laço não tem uma condição clara de parada (como no exemplo while True), ele pode acabar criando um loop infinito se a condição de saída não for alcançada.</p>\n",
        "\n",
        "\n"
      ],
      "metadata": {
        "id": "sKpWX6FLEGuT"
      }
    },
    {
      "cell_type": "code",
      "source": [
        "while True:\n",
        "    print(\"Este é um loop infinito!\")"
      ],
      "metadata": {
        "id": "IBl4niWqFcIx"
      },
      "execution_count": null,
      "outputs": []
    },
    {
      "cell_type": "markdown",
      "source": [
        "<h3>E por que usar o While e não outro laço de repetição?</h3>\n",
        "<p>O while normalmente e mais usado quando for necessario repetir uma quantidade indeterminanda de vez. Ou seja, quando não sabemos quantas vezes será necessaria repetir</p>\n",
        "\n",
        "<p>Exemplo:</p>"
      ],
      "metadata": {
        "id": "Op5E0FO75zeh"
      }
    },
    {
      "cell_type": "code",
      "source": [
        "# No caso do Login por exemplo\n",
        "# Se repete até que o login sejá efetuado com sucesso\n",
        "\n",
        "senha = \"12345\"\n",
        "txt_usuario =\" \"\n",
        "\n",
        "while (txt_usuario != senha):\n",
        "\n",
        "    txt_usuario = input(\"Digite a senha: \")\n",
        "\n",
        "    if txt_usuario == senha :\n",
        "\n",
        "        print('Acesso liberado ')\n",
        "\n",
        "    else:\n",
        "\n",
        "        print('Senha incorreta. Tente novamente')\n",
        "\n",
        "print(\"Fim do programa\")"
      ],
      "metadata": {
        "id": "QeF5SzYt6Fy_"
      },
      "execution_count": null,
      "outputs": []
    },
    {
      "cell_type": "markdown",
      "source": [
        "<hr>\n",
        "<h1># Exercicios: Hora de programar:</h1>\n",
        "\n",
        "<p><b>Mãos a Obra!</b><p>\n",
        "<h2> Desenvolver um programa que recebe 4 notas de prova e mostre a media utilizando \"while\". Se o aluno tiver a media maior ou igual a 5, mostrar \"Aprovado\", Se não \"Reprovado\"</h2>."
      ],
      "metadata": {
        "id": "4uc0g9E1GKGB"
      }
    },
    {
      "cell_type": "code",
      "source": [
        "# Exemplo de while dentro de outro While\n",
        "# Não nessesariamente os alunos precisa fazer isso\n",
        "# Apenas como demostração\n",
        "\n",
        "\n",
        "continuar_app = True\n",
        "quantidade_prova = 4\n",
        "\n",
        "\n",
        "# while dedicado para a repetição do programa\n",
        "while continuar_app:\n",
        "\n",
        "    num_prova = 1\n",
        "    notas_somadas = 0\n",
        "\n",
        "    # loop quantidade de provas\n",
        "    while num_prova <= quantidade_prova:\n",
        "\n",
        "        notas_somadas += float(input(f\"Digite a nota {num_prova}:\"))\n",
        "\n",
        "        # controle de parada do loop (notas)\n",
        "        num_prova += 1\n",
        "\n",
        "\n",
        "    #media = (nota1 + nota2 + nota3 + nota4) / 4\n",
        "    media = notas_somadas / quantidade_prova\n",
        "\n",
        "    if media < 5 :\n",
        "        # reprovado\n",
        "        print(\"O aluno foi reprovado!\")\n",
        "        print(f\"A media foi {media}\")\n",
        "        print(\"Que pena...\")\n",
        "\n",
        "    else:\n",
        "        # aprovado\n",
        "        print(\"O aluno foi aprovado!\")\n",
        "        print(f\"A media foi {media}\")\n",
        "        print(\"Parabéns...\")\n",
        "\n",
        "    # Controle de parada do programa\n",
        "    if input(\"Deseja continuar? = 1 - sim 2 - não: \") == \"1\":\n",
        "        continuar_app = True\n",
        "    else:\n",
        "        continuar_app = False\n",
        "\n",
        "print(\"fim do programa\")"
      ],
      "metadata": {
        "id": "JXby4PvEH1Cf"
      },
      "execution_count": null,
      "outputs": []
    },
    {
      "cell_type": "markdown",
      "source": [
        "<hr>\n",
        "<h2>Laço de repetição - For<h2>\n",
        "\n",
        "<p>O for em Python é uma estrutura de repetição que permite iterar sobre uma sequência (como listas, tuplas, strings, dicionários, ou objetos iteráveis em geral). Ao contrário de outras linguagens que usam o for baseado em um contador ou índice, o for em Python itera diretamente sobre os itens da sequência.\n",
        "</p>\n",
        "\n",
        "<br>\n",
        "\n",
        "<h3>Como é o codigo?<h3>\n",
        "\n",
        "```\n",
        "# para cada item dentro da sequencia\n",
        "\n",
        "for item in sequência:\n",
        "    # Código a ser executado para cada item\n",
        "```\n",
        "\n"
      ],
      "metadata": {
        "id": "D4w4UE8m2zGa"
      }
    },
    {
      "cell_type": "code",
      "source": [
        "lista_valores = [5, 9, 8, 55, 99, 105]\n",
        "\n",
        "# para cada numero dentro da lista de valores\n",
        "for num in lista_valores:\n",
        "    print(num)\n"
      ],
      "metadata": {
        "id": "TihlaK844G9I"
      },
      "execution_count": null,
      "outputs": []
    },
    {
      "cell_type": "code",
      "source": [
        "#para cada letra dentro da palavra Python\n",
        "for letra in \"Python\":\n",
        "    print(letra)\n"
      ],
      "metadata": {
        "id": "4PLHhS_I5DOF"
      },
      "execution_count": null,
      "outputs": []
    },
    {
      "cell_type": "markdown",
      "source": [
        "<h2>Controle de fluxo com \"break\", \"continue\" e \"else\":</h2>\n",
        "\n",
        "<p><b>break</b>: Interrompe o loop imediatamente e sai dele.</p>\n",
        "\n",
        "<p><b>continue</b>: Faz o loop pular para a próxima iteração, pulando o restante do código dentro do loop.</p>\n",
        "\n",
        "<p><b>else</b>: Um bloco else pode ser usado após um for. Ele será executado se o loop terminar sem ser interrompido por um break.\n",
        "Exemplo com break e continue:</p>\n",
        "\n",
        "\n",
        "\n"
      ],
      "metadata": {
        "id": "p7eabINZ5vhB"
      }
    },
    {
      "cell_type": "code",
      "source": [
        "lista_valores = [5, 9, 8, 55, 99, 105]\n",
        "\n",
        "# para cada numero dentro da lista de valores\n",
        "for num in lista_valores:\n",
        "\n",
        "    # numeros maior que 50, o loop para!\n",
        "    if num > 50:\n",
        "        print('chegou no 55!')\n",
        "        break\n",
        "\n",
        "    # se o numero for \"par\" | pega o numero, divide por 2, pega o \"resto\" da divisão e checa se igual a '0'\n",
        "    elif num % 2 == 0:\n",
        "        continue\n",
        "\n",
        "\n",
        "    print(num)"
      ],
      "metadata": {
        "id": "ZDiNiKP16_d3"
      },
      "execution_count": null,
      "outputs": []
    },
    {
      "cell_type": "code",
      "source": [
        "lista_compra = ['abacaxi', 'mamão', 'batata', 'limão', 'banana']\n",
        "\n",
        "# checar se tem abacate na lista\n",
        "for item in lista_compra:\n",
        "\n",
        "    if item == \"abacate\":\n",
        "        print(\"tem abacate na lista\")\n",
        "        break\n",
        "\n",
        "else:\n",
        "    print(\"a lista não tem abacate\")"
      ],
      "metadata": {
        "colab": {
          "base_uri": "https://localhost:8080/"
        },
        "id": "29qB67lm8Vgy",
        "outputId": "1a9567fe-1812-45f3-8662-d274a1ef20be"
      },
      "execution_count": null,
      "outputs": [
        {
          "output_type": "stream",
          "name": "stdout",
          "text": [
            "a lista não tem abacate\n"
          ]
        }
      ]
    },
    {
      "cell_type": "markdown",
      "source": [
        "<h2>for range()</h2>\n",
        "\n",
        "<p>O for combinado com range() é uma das formas mais comuns de iteração em Python quando você precisa repetir um bloco de código um número específico de vezes ou iterar sobre uma sequência de números.</p>\n",
        "\n",
        "Estrutura básica:\n",
        "O range() gera uma sequência de números que o for pode iterar. Ele pode ser usado de várias formas dependendo do número de parâmetros que você passa.\n",
        "\n",
        "```\n",
        "range(início, fim, passo)\n",
        "```\n",
        "\n",
        "<p>início: O número inicial da sequência (inclusivo). Se não fornecido, o valor padrão é 0.</p>\n",
        "\n",
        "<p>fim: O número final da sequência (exclusivo). A sequência vai até fim - 1.</p>\n",
        "\n",
        "<p>passo: A diferença entre os números sucessivos. Se não fornecido, o valor padrão é 1.</p>\n",
        "\n"
      ],
      "metadata": {
        "id": "70_ywea39anB"
      }
    },
    {
      "cell_type": "code",
      "source": [
        "# Aqui, o range(5) gera os números 0, 1, 2, 3 e 4, e o for itera sobre essa sequência.\n",
        "\n",
        "list(range(5))"
      ],
      "metadata": {
        "colab": {
          "base_uri": "https://localhost:8080/"
        },
        "id": "-ChT2hOw-IB_",
        "outputId": "365966e0-c5c1-4943-98ff-d4d70febd958"
      },
      "execution_count": null,
      "outputs": [
        {
          "output_type": "execute_result",
          "data": {
            "text/plain": [
              "[0, 1, 2, 3, 4]"
            ]
          },
          "metadata": {},
          "execution_count": 20
        }
      ]
    },
    {
      "cell_type": "code",
      "source": [
        "for i in range(5):\n",
        "    print(i)"
      ],
      "metadata": {
        "id": "21lWairH_Pm3"
      },
      "execution_count": null,
      "outputs": []
    },
    {
      "cell_type": "code",
      "source": [
        "# range gera uma sequencia do 0 ao 9 porem de 2 em 2\n",
        "\n",
        "for numero_pares in range(0,10,2):\n",
        "    print(numero_pares)"
      ],
      "metadata": {
        "id": "1Px833434wC0"
      },
      "execution_count": null,
      "outputs": []
    },
    {
      "cell_type": "markdown",
      "source": [
        "<hr>\n",
        "<hr>\n",
        "<hr>\n",
        "<hr>\n",
        "<hr>\n",
        "<br>\n",
        "\n",
        "<h1><b>10. Função</b></h1>\n",
        "\n",
        "<p>Em Python, uma função é um bloco de código que é projetado para realizar uma tarefa específica. Uma vez que uma função é definida, você pode \"chamá-la\" (invocá-la) para que ela execute seu código sempre que necessário. Funções são úteis para evitar a repetição de código, melhorar a organização e a legibilidade, e promover a reutilização de código.</p>\n",
        "\n",
        "<h2>Características das Funções em Python:</h2>\n",
        "\n",
        "<ul>\n",
        "<li><b>Encapsulamento de código:</b>\n",
        "<p>Uma função pode agrupar um conjunto de instruções que realizam uma tarefa específica. Isso evita a necessidade de escrever o mesmo código várias vezes.</p>\n",
        "</li>\n",
        "\n",
        "<li><b>Parâmetros e argumentos:</b>\n",
        "<p>As funções podem receber parâmetros (valores de entrada) que são usados dentro de sua definição. Quando a função é chamada, você pode passar argumentos para esses parâmetros.</p>\n",
        "</li>\n",
        "\n",
        "<li><b>Valor de retorno:</b>\n",
        "<p>Uma função pode retornar um valor usando a palavra-chave return. O valor retornado pode ser utilizado em outras partes do programa.</p>\n",
        "</li>\n",
        "\n",
        "<li><b>Modularização:</b>\n",
        "<p>As funções ajudam a modularizar o código, dividindo-o em partes menores e mais gerenciáveis.</p>\n",
        "</li>\n",
        "</ul>\n",
        "\n",
        "\n"
      ],
      "metadata": {
        "id": "W1E91zgt6iUd"
      }
    },
    {
      "cell_type": "markdown",
      "source": [
        "<h2>Como criar uma função:</h2>\n",
        "\n",
        "<ol>\n",
        "\n",
        "<li>\n",
        "<b>def:</b>\n",
        "<p>É a palavra-chave usada para iniciar a definição de uma função.</p>\n",
        "</li>\n",
        "\n",
        "<li><b>nome_da_funcao:</b>\n",
        " <p>O nome da função, que deve seguir as regras de nomenclatura de identificadores (não pode começar com números, não pode conter espaços, e não pode ser uma palavra reservada).</p>\n",
        "</li>\n",
        "\n",
        "<li>\n",
        "<b>definição dos parâmetros:</b>\n",
        " <p>São parâmetros da função, também chamados de argumentos. Eles são valores que você pode passar para a função quando chamá-la. Você pode definir quantos parâmetros forem necessários ou até mesmo não usar nenhum, caso não precise de entrada para a função.</p>\n",
        "</li>\n",
        "<li>\n",
        "<b>corpo da função:</b>\n",
        "<p>Tudo o que for indentado dentro da função é o que será executado quando a função for chamada. É o código que a função contém e o que ela faz com os parâmetros recebidos.</p>\n",
        "</li>\n",
        "<li>\n",
        "<b>return:</b>\n",
        "<p>A palavra-chave return indica que a função vai retornar um valor. Quando a função é chamada, ela executa o código e, se houver um return, o valor após essa palavra-chave será enviado de volta para quem chamou a função.</p>\n",
        "</li>\n",
        "</ol>\n",
        "\n",
        "\n",
        "```\n",
        "def  nome_função (definição dos parâmetros) :\n",
        "    Bloco de comandos da função\n",
        "    return     # se necessário\n",
        "\n",
        "```"
      ],
      "metadata": {
        "id": "viu6Qwhb-zEG"
      }
    },
    {
      "cell_type": "code",
      "source": [
        "def soma(num1,num2):\n",
        "    # num1 = 2\n",
        "    # num2 = 5\n",
        "    resultado = num1 + num2\n",
        "    return resultado\n"
      ],
      "metadata": {
        "id": "Am2qpmLXFzlj"
      },
      "execution_count": null,
      "outputs": []
    },
    {
      "cell_type": "code",
      "source": [
        "soma(2,5)"
      ],
      "metadata": {
        "id": "C6g9CXRj--3O"
      },
      "execution_count": null,
      "outputs": []
    },
    {
      "cell_type": "code",
      "source": [
        "# função sem parametro\n",
        "\n",
        "def msg():\n",
        "    print(\"Bom Dia\")"
      ],
      "metadata": {
        "id": "lOgxnwww_Xpz"
      },
      "execution_count": null,
      "outputs": []
    },
    {
      "cell_type": "code",
      "source": [
        "msg()"
      ],
      "metadata": {
        "id": "0W9HB2Bc_nLC"
      },
      "execution_count": null,
      "outputs": []
    },
    {
      "cell_type": "markdown",
      "source": [
        "<p>Outro exemplo...</p>"
      ],
      "metadata": {
        "id": "tlEkPiCZ_5ET"
      }
    },
    {
      "cell_type": "code",
      "source": [
        "def mostra_numero_pares(num_final):\n",
        "    ''' mostrará numero pares do 0 até o numero fornecido'''\n",
        "\n",
        "    for num in range(0, num_final + 1, 2):\n",
        "        print(num)\n"
      ],
      "metadata": {
        "id": "oVa_NtKg__-e"
      },
      "execution_count": null,
      "outputs": []
    },
    {
      "cell_type": "code",
      "source": [
        "mostra_numero_pares(10)"
      ],
      "metadata": {
        "id": "wuSAHhfUAfpq"
      },
      "execution_count": null,
      "outputs": []
    },
    {
      "cell_type": "markdown",
      "source": [
        "<h2> <b> Exercicio! </b> </h2>\n",
        "<h2> Crie uma calculadora ultilizando a estrutura de funções</h2>\n",
        "<p>função de soma, subtração, mutiplicação, divisão</p>\n",
        "\n",
        "<p>\n",
        "<b>Atenção!</b>\n",
        "Evite acentuação em nomes de função.\n",
        "</p>"
      ],
      "metadata": {
        "id": "oOEwmPcKzpwx"
      }
    },
    {
      "cell_type": "code",
      "source": [
        "def soma(n1,n2):\n",
        "    return n1 + n2\n",
        "\n",
        "def subtracao(n1,n2):\n",
        "    return n1 - n2\n",
        "\n",
        "def mutiplicacao(n1,n2):\n",
        "    return n1 * n2\n",
        "\n",
        "def divisao(n1,n2):\n",
        "    return n1 / n2\n",
        "\n",
        "def instrucao():\n",
        "    # instrução de controle do usuario\n",
        "    print(\" ______________________ \")\n",
        "    print(\"|  ***Calculadora***   |\")\n",
        "    print(\"|______________________|\")\n",
        "    print(\"| s - Sair | z - zerar |\")\n",
        "    print(\"|______________________|\")\n",
        "\n",
        "\n",
        "def calcular(n1,n2,simbolo):\n",
        "    # função que recebe 2 numeros e o simbolo e ultiliza as funções de calculo\n",
        "\n",
        "    if simbolo == \"+\":\n",
        "        return soma(n1,n2)\n",
        "    if simbolo == \"-\":\n",
        "        return subtracao(n1,n2)\n",
        "    if simbolo == \"*\":\n",
        "        return mutiplicacao(n1,n2)\n",
        "    if simbolo == \"/\":\n",
        "        return divisao(n1,n2)\n",
        "\n",
        "def mostra_resultado(result):\n",
        "    print(f\"Resultado: {result}\")\n",
        "\n",
        "def msg_erro():\n",
        "    print(\"**Erro de digitação**\\n\")\n",
        "\n",
        "\n",
        "# -- main --\n",
        "def app_calculadora():\n",
        "    #função que da inicio ao programa calculadora\n",
        "\n",
        "    resultado = 0\n",
        "    controle = \"\"\n",
        "    calculadora_ligada = True\n",
        "    simbolo = \"\"\n",
        "\n",
        "\n",
        "    while calculadora_ligada:\n",
        "        instrucao()\n",
        "        mostra_resultado(resultado)\n",
        "\n",
        "        controle = input()\n",
        "\n",
        "        # -- controle --\n",
        "        if controle in [\"z\",\"s\"]:\n",
        "            if controle == \"z\":\n",
        "                resultado = 0\n",
        "                simbolo = \"\"\n",
        "            else:\n",
        "                calculadora_ligada = False\n",
        "\n",
        "        # -- Se é numero --\n",
        "        elif controle.isdigit() and simbolo == \"\":\n",
        "            if resultado != 0:\n",
        "                resultado = 0\n",
        "                resultado = soma(resultado,int(controle))\n",
        "            else:\n",
        "                resultado = soma(resultado,int(controle))\n",
        "\n",
        "        elif controle.isdigit() and simbolo != \"\":\n",
        "            resultado = calcular(resultado,int(controle),simbolo)\n",
        "\n",
        "        elif controle in [\"+\",\"-\",\"*\",\"/\"]:\n",
        "            simbolo = controle\n",
        "\n",
        "        else:\n",
        "            msg_erro()\n",
        "\n",
        "    print(\"Fim do Programa!\")\n"
      ],
      "metadata": {
        "id": "Y3AdfGo0zpFq"
      },
      "execution_count": null,
      "outputs": []
    },
    {
      "cell_type": "code",
      "source": [
        "app_calculadora()"
      ],
      "metadata": {
        "id": "n4fkmwDP09vW"
      },
      "execution_count": null,
      "outputs": []
    },
    {
      "cell_type": "markdown",
      "source": [
        "<h1>Sistema de Login</h1>\n",
        "<p>Utilizando <b>\"tudo\"</b> que aprendemos até hoje.</p>"
      ],
      "metadata": {
        "id": "m_ZiwnK77cdb"
      }
    },
    {
      "cell_type": "code",
      "source": [
        "lista_usuarios = [\n",
        "    # 0  [0   ,  1 ]\n",
        "    [\"Eduardo\",\"1234\"],\n",
        "    # 1  [0   ,  1 ]\n",
        "    [\"Maria\",\"1234\"],\n",
        "    # 2  [0   ,  1 ]\n",
        "    [\"João\",\"9876\"],\n",
        "]\n",
        "\n",
        "def altenticar_usuario(login,senha):\n",
        "\n",
        "    for item_lista in lista_usuarios:\n",
        "\n",
        "        if login == item_lista[0] and senha == item_lista[1]:\n",
        "            return True\n",
        "\n",
        "    return False\n",
        "\n",
        "def informacoes():\n",
        "    print(\" _______________________________\")\n",
        "    print(\"| Bem vindo ao sistema de login |\")\n",
        "    print(\"|                               |\")\n",
        "    print(\"|_______________________________|\")\n",
        "\n",
        "#  -- main --\n",
        "def app_login():\n",
        "    nao_logado = True\n",
        "\n",
        "    while nao_logado:\n",
        "\n",
        "        informacoes()\n",
        "\n",
        "        login_usuario = input(\"Digite o login:\")\n",
        "        senha_usuario = input(\"Digite a senha:\")\n",
        "\n",
        "        if altenticar_usuario(login_usuario,senha_usuario):\n",
        "            print(\"Login Efetuado com sucesso!\")\n",
        "            nao_logado = False\n",
        "\n",
        "        else:\n",
        "            print(\"ERRO de Login e senha\")"
      ],
      "metadata": {
        "id": "ugHUBglg7wrD"
      },
      "execution_count": null,
      "outputs": []
    },
    {
      "cell_type": "code",
      "source": [
        "app_login()"
      ],
      "metadata": {
        "id": "4zoKuWc-Kj6q"
      },
      "execution_count": null,
      "outputs": []
    },
    {
      "cell_type": "markdown",
      "source": [
        "<hr>\n",
        "<hr>\n",
        "<hr>\n",
        "<hr>\n",
        "<hr>\n",
        "<br>\n",
        "\n",
        "\n",
        "<h1><b>11. Tratamento de Erros e Exceções</b><h1>\n",
        "\n",
        "<p>O tratamento de erros e exceções em Python é um mecanismo que permite que o programa lide com situações inesperadas ou erros durante sua execução de maneira controlada, sem interromper o fluxo do programa. Isso é feito através do uso dos blocos try, except, else e finally.</p>\n",
        "\n",
        "\n",
        "<h3>Aqui está uma explicação detalhada de como funciona:</h3>\n",
        "\n",
        "<ol>\n",
        "\n",
        "<li>\n",
        "<b>O que são exceções?</b>\n",
        "<p>Exceções são erros que ocorrem durante a execução do programa. Quando ocorre um erro, Python \"lança\" uma exceção. Se não tratada, o programa termina imediatamente. Exceções comuns incluem ZeroDivisionError (divisão por zero), ValueError (erro de tipo), IndexError (índice fora do intervalo), entre outros.</p>\n",
        "</li>\n",
        "<li>\n",
        "<b>Bloco try</b>\n",
        "<p>O bloco try é usado para envolver o código que pode gerar um erro (exceção). Se o código dentro do try for executado sem problemas, o programa continua normalmente. Se um erro ocorrer, a execução é interrompida e o Python começa a procurar um bloco except que possa tratar o erro.</p>\n",
        "</li>\n",
        "<li>\n",
        "<b>Bloco except</b>\n",
        "<p>O bloco except é usado para capturar e tratar a exceção que ocorreu no bloco try. Você pode especificar o tipo de exceção que deseja capturar. Por exemplo, se uma divisão por zero ocorrer, você pode capturar a exceção ZeroDivisionError.</p>\n",
        "</li>\n",
        "<li>\n",
        "<b>Bloco else</b>\n",
        "<p>O bloco else é opcional e executa um código se não ocorrer nenhum erro no bloco try. Ele é útil quando você quer executar algo apenas se o código dentro do try for bem-sucedido.</p>\n",
        "</li>\n",
        "<li>\n",
        "<b>Bloco finally</b>\n",
        "<p>O bloco finally também é opcional. O código dentro do finally será executado sempre, independentemente de ocorrer ou não uma exceção. Normalmente, ele é usado para realizar a limpeza de recursos, como fechar arquivos ou conexões de banco de dados, garantindo que essas ações sempre sejam realizadas.</p>\n",
        "</li>\n",
        "</b>\n",
        "</ol>\n",
        "<br>\n",
        "<h3>Exemplo básico de tratamento de exceções:</h3>"
      ],
      "metadata": {
        "id": "lF3YUXfeEzPc"
      }
    },
    {
      "cell_type": "code",
      "source": [
        "try:\n",
        "    numero = int(input(\"Digite um número: \"))\n",
        "    resultado = 10 / numero\n",
        "\n",
        "except ValueError:\n",
        "    print(\"Valor inválido! Você deve digitar um número.\")\n",
        "\n",
        "except ZeroDivisionError:\n",
        "    print(\"Erro: Não é possível dividir por zero.\")\n",
        "\n",
        "else:\n",
        "    print(f\"O resultado é: {resultado}\")\n",
        "\n",
        "finally:\n",
        "    print(\"Fim do programa.\")"
      ],
      "metadata": {
        "id": "GOtC1iOnEyTZ"
      },
      "execution_count": null,
      "outputs": []
    },
    {
      "cell_type": "code",
      "source": [
        "# Exemplo sem tratamento\n",
        "numero = int(input(\"Digite um número: \"))\n",
        "resultado = 10 / numero\n",
        "\n",
        "print(f\"O resultado é: {resultado}\")\n",
        "print(\"Fim do programa.\")"
      ],
      "metadata": {
        "id": "qzeX9zgnGkPe"
      },
      "execution_count": null,
      "outputs": []
    },
    {
      "cell_type": "markdown",
      "source": [
        "<h3>Neste exemplo:<h3>\n",
        "<ul>\n",
        "<li>\n",
        "<p>try: Tenta ler um número do usuário e fazer uma divisão.</p>\n",
        "</li>\n",
        "<li>\n",
        "<p>except ValueError: Se o usuário não digitar um número, uma exceção ValueError será gerada, e o programa exibirá uma mensagem de erro.</p>\n",
        "</li>\n",
        "<li>\n",
        "<p>except ZeroDivisionError: Se o usuário digitar 0, uma exceção ZeroDivisionError será gerada, e o programa exibirá outra mensagem de erro.</p>\n",
        "</li>\n",
        "<li>\n",
        "<p>else: Se não ocorrerem erros, o resultado da divisão será exibido.</p>\n",
        "</li>\n",
        "<li>\n",
        "<p>finally: Esse bloco sempre será executado, independentemente de erros ou não. Ele imprime \"Fim do programa\".</p>\n",
        "</li>\n",
        "</ul>"
      ],
      "metadata": {
        "id": "YHUUVBpHHZQz"
      }
    },
    {
      "cell_type": "markdown",
      "source": [
        "<h4>E possível usar um try-except sem especificar o tipo de erro em Python. Nesse caso, o except irá capturar qualquer tipo de exceção, sem fazer distinção sobre o erro que ocorreu.</h4>"
      ],
      "metadata": {
        "id": "4L0qOnjWKok0"
      }
    },
    {
      "cell_type": "code",
      "source": [
        "# da para ultilizar o try except sem o tipo de erro\n",
        "\n",
        "try:\n",
        "    # Código que pode gerar um erro\n",
        "    numero = int(input(\"Digite um número: \"))\n",
        "    resultado = 10 / numero\n",
        "except:\n",
        "    # Qualquer erro será capturado aqui\n",
        "    print(\"Ocorreu um erro!\")\n"
      ],
      "metadata": {
        "id": "pICshKuWKB9M"
      },
      "execution_count": null,
      "outputs": []
    },
    {
      "cell_type": "markdown",
      "source": [
        "<h2>Tipos comuns de exceções:</h2>\n",
        "<ul>\n",
        "<li>\n",
        "<b>ValueError:</b>\n",
        "<p>Ocorre quando um valor não é válido para uma operação. Por exemplo, tentar converter uma string não numérica para int.</p>\n",
        "</li>\n",
        "<li>\n",
        "<b>ZeroDivisionError:</b>\n",
        "<p>Ocorre quando há uma tentativa de divisão por zero.</p>\n",
        "</li>\n",
        "<li>\n",
        "<b>IndexError:</b>\n",
        "<p>Ocorre quando tentamos acessar um índice que não existe em uma lista ou tupla.</p>\n",
        "</li>\n",
        "<li>\n",
        "<b>KeyError:</b>\n",
        "<p>Ocorre quando tentamos acessar uma chave que não existe em um dicionário.</p>\n",
        "</li>\n",
        "<li>\n",
        "<b>FileNotFoundError:</b>\n",
        "<p>Ocorre quando tentamos abrir um arquivo que não existe.</p>\n",
        "</li>\n",
        "</ul>"
      ],
      "metadata": {
        "id": "yVbM0zjKIS5h"
      }
    },
    {
      "cell_type": "markdown",
      "source": [
        "<hr>\n",
        "<hr>\n",
        "<hr>\n",
        "<hr>\n",
        "<hr>\n",
        "<br>\n",
        "\n",
        "<h1><b>12. Biblioteca (Library)</b></h1>\n",
        "\n",
        "<p>Em Python, uma biblioteca é um conjunto de módulos e pacotes que oferecem funcionalidades prontas para serem usadas em programas, facilitando a implementação de diversas tarefas sem precisar reescrever o código do zero. Ela pode incluir funções, classes, métodos e até outros recursos que realizam operações específicas.</p>\n",
        "\n",
        "<p>Quando você utiliza uma biblioteca, o código dela já foi escrito e testado por outros desenvolvedores, permitindo que você foque no seu próprio código, sem se preocupar com os detalhes de implementação de funcionalidades comuns.</p>\n",
        "\n",
        "<p>Você pode importar e usar bibliotecas no seu código com a palavra-chave <b>import</b>:</p>\n",
        "\n",
        "```\n",
        "import nome_da_biblioteca\n",
        "```"
      ],
      "metadata": {
        "id": "HDA1DMcbDrhF"
      }
    },
    {
      "cell_type": "markdown",
      "source": [
        "\n",
        "<h3>Biblioteca random</h3>\n",
        "<p>A biblioteca random em Python oferece funções que permitem gerar números aleatórios, embaralhar dados, selecionar itens aleatórios de uma lista, entre outras operações relacionadas à aleatoriedade. Ela é amplamente usada quando você precisa de elementos imprevisíveis ou variáveis em seu código, como em jogos, testes de software ou simulações.</p>\n",
        "\n",
        "Biblioteca random :[Link](https://docs.python.org/pt-br/3.13/library/random.html)\n",
        "```\n",
        "import random\n",
        "```"
      ],
      "metadata": {
        "id": "mICp6P70RwbK"
      }
    },
    {
      "cell_type": "code",
      "source": [
        "# a biblioteca random é usada para gerar numeros aleatórios\n",
        "\n",
        "# definição: Este módulo implementa geradores de números pseudoaleatórios para várias distribuições.\n",
        "\n",
        "import random\n",
        "\n",
        "numero_aleatorio = random.randrange(11) # gera um numero de 0 ao 10 - (11 exclusivo)\n",
        "\n",
        "print(numero_aleatorio)"
      ],
      "metadata": {
        "id": "QTD9Usg7FqKQ"
      },
      "execution_count": null,
      "outputs": []
    },
    {
      "cell_type": "code",
      "source": [
        "#podemos abreviar o nome da biblioteca com \"as\"\n",
        "\n",
        "import random as rd\n",
        "\n",
        "lista_nomes = [\"joão\", \"maria\", \"jose\", \"mateus\", \"lucas\"]\n",
        "\n",
        "nome_escolhido = rd.choice(lista_nomes) # Escolhe um nome aleatório dentro da lista\n",
        "\n",
        "print(nome_escolhido)"
      ],
      "metadata": {
        "id": "-gRrgnTiKfgU"
      },
      "execution_count": null,
      "outputs": []
    },
    {
      "cell_type": "code",
      "source": [
        "# podemos importar apenas o modulo que precisamos\n",
        "# sem a necessidade de importar a biblioteca inteira\n",
        "\n",
        "from random import randrange\n",
        "\n",
        "print(randrange(5))"
      ],
      "metadata": {
        "id": "iPnp0dqXLyRd"
      },
      "execution_count": null,
      "outputs": []
    },
    {
      "cell_type": "markdown",
      "source": [
        "<h3>A biblioteca \"string\"</h3>\n",
        "\n",
        "<p>A biblioteca \"string\" em Python é um módulo que fornece uma série de constantes e funções úteis para trabalhar com strings. Ela facilita operações como manipulação de caracteres, obtenção de letras e números, e outras operações relacionadas a strings.</p>\n",
        "\n",
        "Biblioteca string :[Link](https://docs.python.org/pt-br/3.13/library/string.html#module-string)\n",
        "\n",
        "```\n",
        "import string\n",
        "```"
      ],
      "metadata": {
        "id": "oUIlDMhgQh4j"
      }
    },
    {
      "cell_type": "code",
      "source": [
        "import string # biblioteca que traz todo o alfabeto\n",
        "\n",
        "print(string.ascii_letters)\n",
        "print(string.digits)\n",
        "print(string.punctuation)"
      ],
      "metadata": {
        "colab": {
          "base_uri": "https://localhost:8080/"
        },
        "id": "u3TNnbSROEyU",
        "outputId": "c533a64d-17a6-4f2a-f0e6-b21821205382"
      },
      "execution_count": null,
      "outputs": [
        {
          "output_type": "stream",
          "name": "stdout",
          "text": [
            "abcdefghijklmnopqrstuvwxyzABCDEFGHIJKLMNOPQRSTUVWXYZ\n",
            "0123456789\n",
            "!\"#$%&'()*+,-./:;<=>?@[\\]^_`{|}~\n"
          ]
        }
      ]
    },
    {
      "cell_type": "markdown",
      "source": [
        "<hr>\n",
        "<hr>\n",
        "<hr>\n",
        "<hr>\n",
        "<hr>\n",
        "<br>\n",
        "\n",
        "<h1><b>13. Manipulação de Listas</b></h1>\n",
        "<h2> Em desenvolvimento... </h2>\n",
        "\n",
        "<p>Em Python, uma lista é uma estrutura de dados que armazena uma coleção de itens (elementos), que podem ser de tipos diferentes, como números, strings, objetos, entre outros. As listas são mutáveis, o que significa que você pode modificar seus elementos após a criação da lista. Elas também mantêm a ordem de inserção dos itens, ou seja, os itens têm um índice que indica sua posição na lista.</p>\n",
        "\n",
        "```\n",
        "#indice 0  1  2  3  4  5\n",
        "lista = [2, 7, 8, 4, 6, 9]\n",
        "```\n",
        "\n",
        "\n",
        "<h3>Algumas operações comuns com listas:</h3>\n",
        "<ul>\n",
        "<li>\n",
        "<b>append():</b> Adiciona um item ao final da lista.\n",
        "</li>\n",
        "<li>\n",
        "<b>remove():</b> Remove o primeiro item que tem o valor especificado.\n",
        "</li>\n",
        "<li>\n",
        "<b>pop():</b> Remove o item no índice especificado (ou o último item, se nenhum índice for passado).\n",
        "</li>\n",
        "<li>\n",
        "<b>len():</b> Retorna o número de itens na lista.\n",
        "</li>\n",
        "<li>\n",
        "<b>sort():</b> Organiza a lista em ordem crescente (ou decrescente, se especificado).\n",
        "</li>\n",
        "<li>\n",
        "<b>clear():</b> Removendo todos os elementos da lista.\n",
        "</li>\n",
        "<ul>"
      ],
      "metadata": {
        "id": "wkeQv7Cq4EY7"
      }
    },
    {
      "cell_type": "code",
      "source": [
        "minha_lista = [10, 20, 30, 'Python', True]"
      ],
      "metadata": {
        "id": "PpSS3H7UEPkg"
      },
      "execution_count": null,
      "outputs": []
    },
    {
      "cell_type": "code",
      "source": [
        "# Acessando elementos pelo índice\n",
        "print(minha_lista[0])  # Saída: 10\n",
        "print(minha_lista[3])  # Saída: 'Python'"
      ],
      "metadata": {
        "colab": {
          "base_uri": "https://localhost:8080/"
        },
        "id": "WZXWdxLxHF5U",
        "outputId": "b19bb670-2657-45c0-d7a7-6c6bf7d59634"
      },
      "execution_count": null,
      "outputs": [
        {
          "output_type": "stream",
          "name": "stdout",
          "text": [
            "10\n",
            "Python\n"
          ]
        }
      ]
    },
    {
      "cell_type": "code",
      "source": [
        "# Modificar elementos pelo índice\n",
        "minha_lista[0] = 99   # Saída: 10 para 99\n",
        "\n",
        "print(minha_lista[0])  # Saída: '99'\n",
        "print(minha_lista)"
      ],
      "metadata": {
        "colab": {
          "base_uri": "https://localhost:8080/"
        },
        "id": "Wk22MHZjHJo1",
        "outputId": "d822d6b4-391b-4f6e-b8c6-c68fc22e6ab5"
      },
      "execution_count": null,
      "outputs": [
        {
          "output_type": "stream",
          "name": "stdout",
          "text": [
            "99\n",
            "[99, 20, 30, 'Python', True]\n"
          ]
        }
      ]
    },
    {
      "cell_type": "code",
      "source": [
        "# Adicionando um elemento\n",
        "minha_lista.append(\"jose\")\n",
        "print(minha_lista)"
      ],
      "metadata": {
        "id": "sI73hzFwESNw"
      },
      "execution_count": null,
      "outputs": []
    },
    {
      "cell_type": "code",
      "source": [
        "# Removendo um elemento\n",
        "minha_lista.remove('jose')\n",
        "print(minha_lista)"
      ],
      "metadata": {
        "id": "xUojXJzBDNoo"
      },
      "execution_count": null,
      "outputs": []
    },
    {
      "cell_type": "code",
      "source": [
        "# Remove o item no índice especificado (ou o último item, se nenhum índice for passado).\n",
        "minha_lista.pop(4)\n",
        "print(minha_lista)"
      ],
      "metadata": {
        "id": "gHkgKjRPDzQW"
      },
      "execution_count": null,
      "outputs": []
    },
    {
      "cell_type": "code",
      "source": [
        "# Retorna o número de itens na lista.\n",
        "len(minha_lista)"
      ],
      "metadata": {
        "id": "C8Y-S5P_Ey43"
      },
      "execution_count": null,
      "outputs": []
    },
    {
      "cell_type": "code",
      "source": [
        "# Organiza a lista em ordem crescente (ou decrescente, se especificado).\n",
        "lista_numerica = [9, 5, 6, 1, 0, 2]\n",
        "\n",
        "lista_numerica.sort()\n",
        "# lista_numerica.sort(reverse=True)\n",
        "\n",
        "print(lista_numerica)"
      ],
      "metadata": {
        "id": "zwhBZn8tFY-c"
      },
      "execution_count": null,
      "outputs": []
    },
    {
      "cell_type": "code",
      "source": [
        "# Removendo todos os elementos da lista.\n",
        "lista_numerica.clear()\n",
        "print(lista_numerica)"
      ],
      "metadata": {
        "id": "U5r5IQ2kGdJI"
      },
      "execution_count": null,
      "outputs": []
    },
    {
      "cell_type": "markdown",
      "source": [
        "<hr>\n",
        "<hr>\n",
        "<hr>\n",
        "<hr>\n",
        "<hr>\n",
        "<br>\n",
        "<br>\n",
        "<br>\n",
        "<br>\n",
        "\n",
        "\n",
        "# Teste\n",
        "\n",
        "<h1><b># Projeto Final</b></h1>\n",
        "<h2><b> Nivel Easy!!! 😎<b></h2>\n",
        "\n",
        "<p>Desenvolva um jogo de Adivinha o numero!</p>\n",
        "<p>Desenvolva um jogo de Tabuada!</p>\n",
        "<p>Desenvolva um gerador de Senha!</p>"
      ],
      "metadata": {
        "id": "9-cTmOa1rdk5"
      }
    },
    {
      "cell_type": "code",
      "source": [
        "#jogo de Tabuada!\n",
        "\n",
        "from random import randrange\n",
        "\n",
        "def info():\n",
        "    print(\"*************************\")\n",
        "    print(\"*     Bem vindo ao      *\")\n",
        "    print(\"*    Jogo de Tabuada!   *\")\n",
        "    print(\"*************************\")\n",
        "    print(\"* Você terá 5 perguntas *\")\n",
        "    print(\"* para responder.       *\")\n",
        "    print(\"*************************\")\n",
        "\n",
        "def gerar_numero():\n",
        "    return randrange(11)\n",
        "\n",
        "def resposta_valida(resposta):\n",
        "    try:\n",
        "        int(resposta)\n",
        "    except ValueError:\n",
        "        return False\n",
        "    else:\n",
        "        return True\n",
        "\n",
        "\n",
        "def check_resposta(num1, num2, resposta):\n",
        "    return (num1 * num2 == resposta)\n",
        "\n",
        "def tabuada_game():\n",
        "    pontuacao = 0\n",
        "    numero_de_perguntas = 5\n",
        "    total_pergunta = numero_de_perguntas\n",
        "\n",
        "    info()\n",
        "    # while para repetir o game (em dev...)\n",
        "    while numero_de_perguntas > 0:\n",
        "\n",
        "        resposta_he_valida = False\n",
        "        numero_1 = gerar_numero()\n",
        "        numero_2 = gerar_numero()\n",
        "\n",
        "        while not resposta_he_valida:\n",
        "\n",
        "            # pergunta ...\n",
        "            resposta = input(f\"Quanto é {numero_1} x {numero_2}: \")\n",
        "            # checar se resposta é valida\n",
        "            resposta_he_valida = resposta_valida(resposta)\n",
        "\n",
        "            if not resposta_he_valida:\n",
        "                print(\"Favor preencher um numero valido!\")\n",
        "\n",
        "\n",
        "        acertou = check_resposta(numero_1, numero_2, int(resposta))\n",
        "\n",
        "        if acertou:\n",
        "            print(\"Parabens! Voçê acertou!\")\n",
        "            pontuacao += 1\n",
        "        else:\n",
        "            print(f\"Você errou! A resposta éra {numero_1 * numero_2}\")\n",
        "\n",
        "        numero_de_perguntas -= 1\n",
        "\n",
        "#Final\n",
        "    print('*' * 25)\n",
        "    print(f\"Você acertou {pontuacao} de {total_pergunta}!\")\n",
        "    print(f\"Sua nota é {((pontuacao / total_pergunta) * 10):.2f}\")\n",
        "    print('*' * 25)\n",
        "\n",
        "tabuada_game()"
      ],
      "metadata": {
        "colab": {
          "base_uri": "https://localhost:8080/"
        },
        "id": "WpjxpUuiOWgQ",
        "outputId": "2f23298f-0331-4af2-a05d-d754baea8ba2"
      },
      "execution_count": null,
      "outputs": [
        {
          "output_type": "stream",
          "name": "stdout",
          "text": [
            "*************************\n",
            "*     Bem vindo ao      *\n",
            "*    Jogo de Tabuada!   *\n",
            "*************************\n",
            "* Você terá 5 perguntas *\n",
            "* para responder.       *\n",
            "*************************\n",
            "Quanto é 0 x 2: 0\n",
            "Parabens! Voçê acertou!\n",
            "Quanto é 0 x 1: 0\n",
            "Parabens! Voçê acertou!\n",
            "Quanto é 1 x 1: 0\n",
            "Você errou! A resposta éra 1\n",
            "Quanto é 10 x 5: 0\n",
            "Você errou! A resposta éra 50\n",
            "Quanto é 6 x 9: 0\n",
            "Você errou! A resposta éra 54\n",
            "*************************\n",
            "Você acertou 2 de 5!\n",
            "Sua nota é 4.00\n",
            "*************************\n"
          ]
        }
      ]
    },
    {
      "cell_type": "code",
      "source": [
        "# Gerador de Senha\n",
        "\n",
        "import random\n",
        "import string\n",
        "\n",
        "def gerar_senha(tamanho=12):\n",
        "\n",
        "    # Definir os caracteres possíveis para a senha\n",
        "    caracteres = string.ascii_letters + string.digits + string.punctuation\n",
        "    senha = \"\"\n",
        "\n",
        "    for i in range(tamanho):\n",
        "        #escolher um caracter\n",
        "        caracter = random.choice(caracteres)\n",
        "\n",
        "        senha += caracter\n",
        "\n",
        "\n",
        "    return senha\n",
        "\n",
        "\n",
        "# -- main --\n",
        "\n",
        "# Gerar uma senha de 12 caracteres\n",
        "\n",
        "senha_gerada = gerar_senha(12)\n",
        "\n",
        "print(f'Senha gerada: {senha_gerada}')"
      ],
      "metadata": {
        "colab": {
          "base_uri": "https://localhost:8080/"
        },
        "id": "UNN5QRRMOwKc",
        "outputId": "3f3bb650-61d1-49d4-f8ce-1e6d6c871fdc"
      },
      "execution_count": null,
      "outputs": [
        {
          "output_type": "stream",
          "name": "stdout",
          "text": [
            "Senha gerada: Rfl0Qb8C#M6W\n"
          ]
        }
      ]
    },
    {
      "cell_type": "markdown",
      "source": [
        "<hr>\n",
        "<hr>\n",
        "<hr>\n",
        "<hr>\n",
        "<hr>\n",
        "<br>\n",
        "<br>\n",
        "<br>\n",
        "<br>\n",
        "\n",
        "\n",
        "# Teste\n",
        "\n",
        "<h1><b># Projeto Final</b></h1>\n",
        "<h2><b> Nivel Hard!!!  😰<b></h2>\n",
        "\n",
        "<p>Desenvolva um jogo da forca!</p>\n",
        "\n"
      ],
      "metadata": {
        "id": "hyQUjeyuJ4x0"
      }
    },
    {
      "cell_type": "code",
      "source": [
        "import random\n",
        "\n",
        "palavras = [\"python\", \"forca\", \"programacao\", \"computador\"]\n",
        "\n",
        "#palavras = ['teste']\n",
        "\n",
        "lista_letra_adivinha = []\n",
        "lista_letra_errada = []\n",
        "numero_tentativas = 6\n",
        "\n",
        "def forca_img(numero_tentativas):\n",
        "    match numero_tentativas:\n",
        "        case 0:\n",
        "            print(\"  _______  \")\n",
        "            print(\" |/     |  \")\n",
        "            print(\" |      0  \")\n",
        "            print(\" |     /|\\ \")\n",
        "            print(\" |     / \\ \")\n",
        "            print(\"_|_        \")\n",
        "\n",
        "        case 1:\n",
        "            print(\"  _______  \")\n",
        "            print(\" |/     |  \")\n",
        "            print(\" |      0  \")\n",
        "            print(\" |     /|\\ \")\n",
        "            print(\" |     /   \")\n",
        "            print(\"_|_        \")\n",
        "\n",
        "        case 2:\n",
        "            print(\"  _______  \")\n",
        "            print(\" |/     |  \")\n",
        "            print(\" |      0  \")\n",
        "            print(\" |     /|\\ \")\n",
        "            print(\" |        \")\n",
        "            print(\"_|_        \")\n",
        "\n",
        "        case 3:\n",
        "            print(\"  _______  \")\n",
        "            print(\" |/     |  \")\n",
        "            print(\" |      0  \")\n",
        "            print(\" |     /|  \")\n",
        "            print(\" |         \")\n",
        "            print(\"_|_        \")\n",
        "\n",
        "        case 4:\n",
        "            print(\"  _______  \")\n",
        "            print(\" |/     |  \")\n",
        "            print(\" |      0  \")\n",
        "            print(\" |      |  \")\n",
        "            print(\" |         \")\n",
        "            print(\"_|_        \")\n",
        "\n",
        "        case 5:\n",
        "            print(\"  _______  \")\n",
        "            print(\" |/     |  \")\n",
        "            print(\" |      0  \")\n",
        "            print(\" |         \")\n",
        "            print(\" |         \")\n",
        "            print(\"_|_        \")\n",
        "\n",
        "        case 6:\n",
        "            print(\"  _______  \")\n",
        "            print(\" |/     |  \")\n",
        "            print(\" |         \")\n",
        "            print(\" |         \")\n",
        "            print(\" |         \")\n",
        "            print(\"_|_        \")\n",
        "\n",
        "def intro():\n",
        "    print(\"*********************************\")\n",
        "    print(\"***Bem vindo ao jogo da Forca!***\")\n",
        "    print(\"*********************************\")\n",
        "    print(\"*** Tente adivinha a palavra ****\")\n",
        "    print(\"*********************************\")\n",
        "\n",
        "def carrega_palavra_secreta():\n",
        "    return random.choice(palavras)\n",
        "\n",
        "def gerar_lista_adivinha(palavra_secreta):\n",
        "    global lista_letra_adivinha\n",
        "\n",
        "    lista_letra_adivinha = ['_'] * len(palavra_secreta)\n",
        "\n",
        "def mostra_lista_adivinha():\n",
        "\n",
        "    print('Palavra: ' + ' '.join(lista_letra_adivinha))\n",
        "\n",
        "\n",
        "def mostra_lista_erros():\n",
        "\n",
        "    print('Letras erradas: ' + ' '.join(lista_letra_errada))\n",
        "\n",
        "\n",
        "def check_letra_chute(letra_chute,palavra_secreta):\n",
        "\n",
        "    global lista_letra_errada\n",
        "    global numero_tentativas\n",
        "\n",
        "\n",
        "    # chute digitado de forma errada\n",
        "    if len(letra_chute) != 1 or not letra_chute.isalpha():\n",
        "\n",
        "        print('*' * 33)\n",
        "        print(\"Por favor, digite uma única letra válida.\")\n",
        "        print('*' * 33)\n",
        "\n",
        "        return False\n",
        "\n",
        "    # chute já feito antes\n",
        "    elif letra_chute in lista_letra_adivinha or letra_chute in lista_letra_errada:\n",
        "\n",
        "        print('*' * 33)\n",
        "        print(\"Você já tentou essa letra. Tente outra.\")\n",
        "        print('*' * 33)\n",
        "\n",
        "        return False\n",
        "\n",
        "    # chute certo\n",
        "    elif letra_chute in palavra_secreta:\n",
        "\n",
        "            for i in range(len(palavra_secreta)):\n",
        "\n",
        "                if palavra_secreta[i] == letra_chute:\n",
        "                    lista_letra_adivinha[i] = letra_chute.upper()\n",
        "\n",
        "            print('*' * 33)\n",
        "            print(f\"Boa! A letra {letra_chute} está na palavra.\")\n",
        "            print('*' * 33)\n",
        "\n",
        "            return True\n",
        "\n",
        "    # chute errado\n",
        "    else:\n",
        "        lista_letra_errada.append(letra_chute)\n",
        "        numero_tentativas -= 1\n",
        "\n",
        "        print('*' * 33)\n",
        "        print(f\"A letra {letra_chute} não está na palavra.\")\n",
        "        print('*' * 33)\n",
        "\n",
        "\n",
        "        return True\n",
        "\n",
        "def mostrar_forca(numero_tentativas):\n",
        "    forca_img(numero_tentativas)\n",
        "    mostra_lista_adivinha()\n",
        "    mostra_lista_erros()\n",
        "\n",
        "def zerar_variavel():\n",
        "    global lista_letra_adivinha\n",
        "    global lista_letra_errada\n",
        "    global numero_tentativas\n",
        "\n",
        "    lista_letra_adivinha = []\n",
        "    lista_letra_errada = []\n",
        "    numero_tentativas = 6\n",
        "\n",
        "# main\n",
        "def forca_app():\n",
        "\n",
        "    intro()\n",
        "    palavra_secreta = carrega_palavra_secreta()\n",
        "    gerar_lista_adivinha(palavra_secreta)\n",
        "\n",
        "    mostrar_forca(numero_tentativas)\n",
        "\n",
        "    #print(palavra_secreta)\n",
        "\n",
        "\n",
        "    while numero_tentativas > 0:\n",
        "\n",
        "        digitou_certo = False\n",
        "\n",
        "        while not digitou_certo:\n",
        "\n",
        "            letra = input(\"Digite uma letra: \").lower()\n",
        "            digitou_certo = check_letra_chute(letra, palavra_secreta)\n",
        "\n",
        "\n",
        "        mostrar_forca(numero_tentativas)\n",
        "\n",
        "        if \"_\" not in lista_letra_adivinha:\n",
        "            print('*' * 33)\n",
        "            print(\"\\nParabéns! Você adivinhou a palavra:\", palavra_secreta)\n",
        "            print('*' * 33)\n",
        "            break\n",
        "\n",
        "        if numero_tentativas == 0:\n",
        "            print('*' * 33)\n",
        "            print(f\"\\nVocê perdeu! A palavra era: {palavra_secreta}\")\n",
        "            print('*' * 33)\n",
        "\n",
        "    print('Fim do Programa!')\n",
        "    zerar_variavel()"
      ],
      "metadata": {
        "id": "NXeiTFRCNVXw"
      },
      "execution_count": null,
      "outputs": []
    },
    {
      "cell_type": "code",
      "source": [
        "forca_app()"
      ],
      "metadata": {
        "id": "ZOsAGAxjV7a8"
      },
      "execution_count": null,
      "outputs": []
    }
  ]
}